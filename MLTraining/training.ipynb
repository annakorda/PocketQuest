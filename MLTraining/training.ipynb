{
 "cells": [
  {
   "cell_type": "markdown",
   "id": "46b7a7db",
   "metadata": {},
   "source": [
    "In this notebook we are performing XGBoost training with GPU acceleration"
   ]
  },
  {
   "cell_type": "code",
   "execution_count": null,
   "id": "17670ec7",
   "metadata": {},
   "outputs": [],
   "source": [
    "# == Libraries ==\n",
    "import os\n",
    "import numpy as np\n",
    "import xgboost as xgb\n",
    "import optuna\n",
    "from sklearn.model_selection import train_test_split\n",
    "from sklearn.metrics import roc_auc_score\n",
    "from datetime import datetime\n",
    "from sklearn.model_selection import StratifiedKFold\n",
    "from optuna.integration import XGBoostPruningCallback\n",
    "from datetime import timedelta\n",
    "import time\n",
    "\n"
   ]
  },
  {
   "cell_type": "markdown",
   "id": "10e2b395",
   "metadata": {},
   "source": [
    "We will load all 10 numpy arrays that correspond to our 10 batches and contain Connolly points as feature vectors (32 features & 1 label). Then we will merge them again. We better handled them before in the PDB to Connolly points process in batches but for the training it is better to merge."
   ]
  },
  {
   "cell_type": "code",
   "execution_count": null,
   "id": "55cfa28e",
   "metadata": {},
   "outputs": [],
   "source": [
    "\n",
    "# ===  Load and split all batches (Train/Test only) ===\n",
    "INPUT_FOLDER = \"input_numpy\"\n",
    "N_BATCHES = 10\n",
    "\n",
    "X_train_all, y_train_all = [], []\n",
    "X_test_all, y_test_all = [], []\n",
    "\n",
    "for i in range(1, N_BATCHES + 1):\n",
    "    batch_path = os.path.join(INPUT_FOLDER, f\"batch_{i}.npy\")\n",
    "    data = np.load(batch_path)\n",
    "    X = data[:, :-1]\n",
    "    y = data[:, -1]\n",
    "\n",
    "    # Stratified split: 70% train, 30% test\n",
    "    X_train, X_test, y_train, y_test = train_test_split(\n",
    "        X, y, test_size=0.3, stratify=y, random_state=42\n",
    "    )\n",
    "\n",
    "    X_train_all.append(X_train)\n",
    "    y_train_all.append(y_train)\n",
    "    X_test_all.append(X_test)\n",
    "    y_test_all.append(y_test)\n",
    "\n",
    "# Merge all batches\n",
    "X_train_all = np.concatenate(X_train_all)\n",
    "y_train_all = np.concatenate(y_train_all)\n",
    "X_test_all = np.concatenate(X_test_all)\n",
    "y_test_all = np.concatenate(y_test_all)\n",
    "\n",
    "\n"
   ]
  },
  {
   "cell_type": "markdown",
   "id": "7c0fd86c",
   "metadata": {},
   "source": [
    "Get to kno our dataset and what to expect, spoiler alert! Great class imbalance."
   ]
  },
  {
   "cell_type": "code",
   "execution_count": 12,
   "id": "7056ecd9",
   "metadata": {},
   "outputs": [
    {
     "name": "stdout",
     "output_type": "stream",
     "text": [
      "Dataset Summary\n",
      "Total samples: 11,205,983\n",
      "Train set: 7,844,183 samples | Positives: 426,817 (5.44%)\n",
      "Test set:  3,361,800 samples | Positives: 182,921 (5.44%)\n"
     ]
    }
   ],
   "source": [
    "# === Optional: Print dataset summary ===\n",
    "total = len(y_train_all) + len(y_test_all)\n",
    "print(\"Dataset Summary\")\n",
    "print(f\"Total samples: {total:,}\")\n",
    "print(f\"Train set: {len(y_train_all):,} samples | Positives: {(y_train_all == 1).sum():,} ({(y_train_all == 1).mean()*100:.2f}%)\")\n",
    "print(f\"Test set:  {len(y_test_all):,} samples | Positives: {(y_test_all == 1).sum():,} ({(y_test_all == 1).mean()*100:.2f}%)\")\n"
   ]
  },
  {
   "cell_type": "markdown",
   "id": "0c07ddd0",
   "metadata": {},
   "source": [
    "Set the function for hyperparameter tuning by selecting a wide range of hyper parameters including scale_pos_weight that has to be adjusted in order to account for class imbalance. Optuna (bayesian) is a very good method compatible with XGBoost that is used for tuning."
   ]
  },
  {
   "cell_type": "code",
   "execution_count": null,
   "id": "ca79cb3a",
   "metadata": {},
   "outputs": [],
   "source": [
    "import gc\n",
    "from sklearn.model_selection import StratifiedKFold\n",
    "from sklearn.metrics import roc_auc_score\n",
    "import xgboost as xgb\n",
    "import numpy as np\n",
    "\n",
    "# Use full dataset with 4 folds\n",
    "X_sampled = X_train_all\n",
    "y_sampled = y_train_all\n",
    "\n",
    "def objective(trial):\n",
    "    params = {\n",
    "        'objective': 'binary:logistic',\n",
    "        'tree_method': 'gpu_hist',\n",
    "        'predictor': 'gpu_predictor',\n",
    "        'eval_metric': 'auc',\n",
    "        'max_depth': trial.suggest_int('max_depth', 3, 6),\n",
    "        'learning_rate': trial.suggest_float('learning_rate', 0.1, 0.3),\n",
    "        'n_estimators': trial.suggest_int('n_estimators', 100, 300),\n",
    "        'subsample': trial.suggest_float('subsample', 0.6, 0.9),\n",
    "        'colsample_bytree': trial.suggest_float('colsample_bytree', 0.6, 0.9),\n",
    "        'gamma': trial.suggest_float('gamma', 0, 2),\n",
    "        'min_child_weight': trial.suggest_int('min_child_weight', 1, 4),\n",
    "        'reg_lambda': trial.suggest_float('lambda', 0, 2),\n",
    "        'reg_alpha': trial.suggest_float('alpha', 0, 2),\n",
    "        'scale_pos_weight': trial.suggest_float('scale_pos_weight', 5.0, 25.0),\n",
    "    }\n",
    "\n",
    "    kf = StratifiedKFold(n_splits=4, shuffle=True, random_state=42)\n",
    "    aucs = []\n",
    "\n",
    "    for fold, (train_idx, val_idx) in enumerate(kf.split(X_sampled, y_sampled)):\n",
    "        X_train_fold, X_val_fold = X_sampled[train_idx], X_sampled[val_idx]\n",
    "        y_train_fold, y_val_fold = y_sampled[train_idx], y_sampled[val_idx]\n",
    "\n",
    "        model = xgb.XGBClassifier(**params, n_jobs=2, verbosity=0)\n",
    "\n",
    "        try:\n",
    "            model.fit(\n",
    "                X_train_fold, y_train_fold,\n",
    "                eval_set=[(X_val_fold, y_val_fold)],\n",
    "                verbose=False\n",
    "            )\n",
    "            preds = model.predict_proba(X_val_fold)[:, 1]\n",
    "            auc = roc_auc_score(y_val_fold, preds)\n",
    "            aucs.append(auc)\n",
    "        except Exception as e:\n",
    "            print(f\"Trial failed on fold {fold}: {e}\")\n",
    "            return 0.0\n",
    "        finally:\n",
    "            del model\n",
    "            gc.collect()\n",
    "\n",
    "    trial.set_user_attr(\"fold_aucs\", aucs)\n",
    "    return np.mean(aucs)\n",
    "\n",
    "\n"
   ]
  },
  {
   "cell_type": "markdown",
   "id": "3614bfe7",
   "metadata": {},
   "source": [
    "Apply the tuning and set a big number of trials (n=100). This took around 4.30 hours with GPU acceleration"
   ]
  },
  {
   "cell_type": "code",
   "execution_count": 21,
   "id": "e68667e9",
   "metadata": {},
   "outputs": [
    {
     "name": "stderr",
     "output_type": "stream",
     "text": [
      "[I 2025-04-13 18:57:43,542] A new study created in memory with name: no-name-5d54692e-ba66-40c6-b54a-a7fb97ec31b8\n",
      "[I 2025-04-13 18:59:31,139] Trial 0 finished with value: 0.7577805634556514 and parameters: {'max_depth': 5, 'learning_rate': 0.26739867211050083, 'n_estimators': 101, 'subsample': 0.6034221944535948, 'colsample_bytree': 0.7679112684037179, 'gamma': 1.4652810794505209, 'min_child_weight': 3, 'lambda': 0.8402929077808412, 'alpha': 0.8329132528257754, 'scale_pos_weight': 18.028607176160538}. Best is trial 0 with value: 0.7577805634556514.\n"
     ]
    },
    {
     "name": "stdout",
     "output_type": "stream",
     "text": [
      "Trial 1/100 completed in 107.6s | ETA: 2:57:32\n"
     ]
    },
    {
     "name": "stderr",
     "output_type": "stream",
     "text": [
      "[I 2025-04-13 19:01:49,591] Trial 1 finished with value: 0.7580496255465687 and parameters: {'max_depth': 4, 'learning_rate': 0.2259277700061942, 'n_estimators': 258, 'subsample': 0.8430514535088888, 'colsample_bytree': 0.647170522855383, 'gamma': 0.015780903874117902, 'min_child_weight': 2, 'lambda': 0.5808646867692167, 'alpha': 0.3962820538018581, 'scale_pos_weight': 24.97534184332912}. Best is trial 1 with value: 0.7580496255465687.\n"
     ]
    },
    {
     "name": "stdout",
     "output_type": "stream",
     "text": [
      "Trial 2/100 completed in 138.5s | ETA: 3:20:56\n"
     ]
    },
    {
     "name": "stderr",
     "output_type": "stream",
     "text": [
      "[I 2025-04-13 19:03:53,286] Trial 2 finished with value: 0.7395841939090649 and parameters: {'max_depth': 3, 'learning_rate': 0.2759379867116163, 'n_estimators': 220, 'subsample': 0.7683125489698739, 'colsample_bytree': 0.6332557562014727, 'gamma': 0.764835710198654, 'min_child_weight': 1, 'lambda': 1.6179283911976279, 'alpha': 1.1087587339217593, 'scale_pos_weight': 9.984690532291332}. Best is trial 1 with value: 0.7580496255465687.\n"
     ]
    },
    {
     "name": "stdout",
     "output_type": "stream",
     "text": [
      "Trial 3/100 completed in 123.7s | ETA: 3:19:15\n"
     ]
    },
    {
     "name": "stderr",
     "output_type": "stream",
     "text": [
      "[I 2025-04-13 19:06:22,533] Trial 3 finished with value: 0.7842080191503784 and parameters: {'max_depth': 5, 'learning_rate': 0.25912543090901463, 'n_estimators': 273, 'subsample': 0.72084633042155, 'colsample_bytree': 0.8815224748396087, 'gamma': 0.4629228061291182, 'min_child_weight': 1, 'lambda': 0.27710682843363976, 'alpha': 0.41939011780011404, 'scale_pos_weight': 14.136392320867667}. Best is trial 3 with value: 0.7842080191503784.\n"
     ]
    },
    {
     "name": "stdout",
     "output_type": "stream",
     "text": [
      "Trial 4/100 completed in 149.2s | ETA: 3:27:35\n"
     ]
    },
    {
     "name": "stderr",
     "output_type": "stream",
     "text": [
      "[I 2025-04-13 19:08:17,052] Trial 4 finished with value: 0.781223412292412 and parameters: {'max_depth': 6, 'learning_rate': 0.28555013978762833, 'n_estimators': 118, 'subsample': 0.7782658740518964, 'colsample_bytree': 0.7967798643421067, 'gamma': 0.6033335886206854, 'min_child_weight': 1, 'lambda': 0.5615723053596386, 'alpha': 0.27150247198687283, 'scale_pos_weight': 8.157888829621761}. Best is trial 3 with value: 0.7842080191503784.\n"
     ]
    },
    {
     "name": "stdout",
     "output_type": "stream",
     "text": [
      "Trial 5/100 completed in 114.5s | ETA: 3:20:36\n"
     ]
    },
    {
     "name": "stderr",
     "output_type": "stream",
     "text": [
      "[I 2025-04-13 19:10:36,594] Trial 5 finished with value: 0.7774240250745743 and parameters: {'max_depth': 6, 'learning_rate': 0.13106808665615727, 'n_estimators': 200, 'subsample': 0.6620958557533885, 'colsample_bytree': 0.6563935821269377, 'gamma': 0.19179667526194177, 'min_child_weight': 3, 'lambda': 0.10683829258316102, 'alpha': 0.16278467959500365, 'scale_pos_weight': 11.856705934746367}. Best is trial 3 with value: 0.7842080191503784.\n"
     ]
    },
    {
     "name": "stdout",
     "output_type": "stream",
     "text": [
      "Trial 6/100 completed in 139.5s | ETA: 3:21:51\n"
     ]
    },
    {
     "name": "stderr",
     "output_type": "stream",
     "text": [
      "[I 2025-04-13 19:12:59,376] Trial 6 finished with value: 0.7627594702603663 and parameters: {'max_depth': 4, 'learning_rate': 0.2607545341750561, 'n_estimators': 276, 'subsample': 0.6630117507556013, 'colsample_bytree': 0.7076682743468173, 'gamma': 0.2628828878725529, 'min_child_weight': 2, 'lambda': 0.3574551204175058, 'alpha': 0.783657704004491, 'scale_pos_weight': 20.15901677224167}. Best is trial 3 with value: 0.7842080191503784.\n"
     ]
    },
    {
     "name": "stdout",
     "output_type": "stream",
     "text": [
      "Trial 7/100 completed in 142.8s | ETA: 3:22:47\n"
     ]
    },
    {
     "name": "stderr",
     "output_type": "stream",
     "text": [
      "[I 2025-04-13 19:15:31,704] Trial 7 finished with value: 0.8046117640181586 and parameters: {'max_depth': 6, 'learning_rate': 0.2759340938178845, 'n_estimators': 257, 'subsample': 0.7207696667730653, 'colsample_bytree': 0.8263394074885958, 'gamma': 1.4639537026661609, 'min_child_weight': 2, 'lambda': 0.4010910022338925, 'alpha': 1.0114977324220584, 'scale_pos_weight': 19.781050482730116}. Best is trial 7 with value: 0.8046117640181586.\n"
     ]
    },
    {
     "name": "stdout",
     "output_type": "stream",
     "text": [
      "Trial 8/100 completed in 152.3s | ETA: 3:24:43\n"
     ]
    },
    {
     "name": "stderr",
     "output_type": "stream",
     "text": [
      "[I 2025-04-13 19:17:56,326] Trial 8 finished with value: 0.76106120093078 and parameters: {'max_depth': 4, 'learning_rate': 0.22245075485997795, 'n_estimators': 285, 'subsample': 0.7988916276038975, 'colsample_bytree': 0.7896330104532002, 'gamma': 0.6545518148977754, 'min_child_weight': 3, 'lambda': 1.1369556134009045, 'alpha': 0.2252408594423756, 'scale_pos_weight': 16.953050893365038}. Best is trial 7 with value: 0.8046117640181586.\n"
     ]
    },
    {
     "name": "stdout",
     "output_type": "stream",
     "text": [
      "Trial 9/100 completed in 144.6s | ETA: 3:24:22\n"
     ]
    },
    {
     "name": "stderr",
     "output_type": "stream",
     "text": [
      "[I 2025-04-13 19:20:03,556] Trial 9 finished with value: 0.7293977224098384 and parameters: {'max_depth': 3, 'learning_rate': 0.12637541280757175, 'n_estimators': 230, 'subsample': 0.6380857669191708, 'colsample_bytree': 0.684151153114497, 'gamma': 0.8680404970798021, 'min_child_weight': 2, 'lambda': 1.3981617904964578, 'alpha': 0.23206474084515416, 'scale_pos_weight': 22.547921348818235}. Best is trial 7 with value: 0.8046117640181586.\n"
     ]
    },
    {
     "name": "stdout",
     "output_type": "stream",
     "text": [
      "Trial 10/100 completed in 127.2s | ETA: 3:21:00\n"
     ]
    },
    {
     "name": "stderr",
     "output_type": "stream",
     "text": [
      "[I 2025-04-13 19:22:12,412] Trial 10 finished with value: 0.7803807471877884 and parameters: {'max_depth': 6, 'learning_rate': 0.18031466785139627, 'n_estimators': 167, 'subsample': 0.8966270887207005, 'colsample_bytree': 0.8856610021047724, 'gamma': 1.9384616802678338, 'min_child_weight': 4, 'lambda': 1.9984846937592915, 'alpha': 1.8330436907488863, 'scale_pos_weight': 5.074455500438905}. Best is trial 7 with value: 0.8046117640181586.\n"
     ]
    },
    {
     "name": "stdout",
     "output_type": "stream",
     "text": [
      "Trial 11/100 completed in 128.9s | ETA: 3:18:04\n"
     ]
    },
    {
     "name": "stderr",
     "output_type": "stream",
     "text": [
      "[I 2025-04-13 19:24:45,839] Trial 11 finished with value: 0.7846511061432003 and parameters: {'max_depth': 5, 'learning_rate': 0.237045384807885, 'n_estimators': 296, 'subsample': 0.7026394702808603, 'colsample_bytree': 0.8917206130403987, 'gamma': 1.2984475027647178, 'min_child_weight': 1, 'lambda': 0.043947469663670136, 'alpha': 1.2980298758460536, 'scale_pos_weight': 14.469806576496607}. Best is trial 7 with value: 0.8046117640181586.\n"
     ]
    },
    {
     "name": "stdout",
     "output_type": "stream",
     "text": [
      "Trial 12/100 completed in 153.4s | ETA: 3:18:16\n"
     ]
    },
    {
     "name": "stderr",
     "output_type": "stream",
     "text": [
      "[I 2025-04-13 19:27:20,243] Trial 12 finished with value: 0.7784970412172769 and parameters: {'max_depth': 5, 'learning_rate': 0.1864889593644815, 'n_estimators': 294, 'subsample': 0.7146527159127475, 'colsample_bytree': 0.8346825032536048, 'gamma': 1.2920356906398218, 'min_child_weight': 1, 'lambda': 0.12457680226408863, 'alpha': 1.331526132856936, 'scale_pos_weight': 14.629340181299467}. Best is trial 7 with value: 0.8046117640181586.\n"
     ]
    },
    {
     "name": "stdout",
     "output_type": "stream",
     "text": [
      "Trial 13/100 completed in 154.4s | ETA: 3:18:10\n"
     ]
    },
    {
     "name": "stderr",
     "output_type": "stream",
     "text": [
      "[I 2025-04-13 19:29:50,150] Trial 13 finished with value: 0.7994211113019845 and parameters: {'max_depth': 6, 'learning_rate': 0.2305156824605441, 'n_estimators': 247, 'subsample': 0.712523147049947, 'colsample_bytree': 0.8413212397879289, 'gamma': 1.28337768804372, 'min_child_weight': 2, 'lambda': 0.03782256783119569, 'alpha': 1.5156410521781498, 'scale_pos_weight': 19.757267159815235}. Best is trial 7 with value: 0.8046117640181586.\n"
     ]
    },
    {
     "name": "stdout",
     "output_type": "stream",
     "text": [
      "Trial 14/100 completed in 149.9s | ETA: 3:17:14\n"
     ]
    },
    {
     "name": "stderr",
     "output_type": "stream",
     "text": [
      "[I 2025-04-13 19:32:19,674] Trial 14 finished with value: 0.7895729157583684 and parameters: {'max_depth': 6, 'learning_rate': 0.15787583129528426, 'n_estimators': 242, 'subsample': 0.7255929936224973, 'colsample_bytree': 0.8306664046562504, 'gamma': 1.710943050517627, 'min_child_weight': 2, 'lambda': 0.6321846535868741, 'alpha': 1.7629853040208092, 'scale_pos_weight': 20.327555963778813}. Best is trial 7 with value: 0.8046117640181586.\n"
     ]
    },
    {
     "name": "stdout",
     "output_type": "stream",
     "text": [
      "Trial 15/100 completed in 149.5s | ETA: 3:16:04\n"
     ]
    },
    {
     "name": "stderr",
     "output_type": "stream",
     "text": [
      "[I 2025-04-13 19:34:31,520] Trial 15 finished with value: 0.7967944097990844 and parameters: {'max_depth': 6, 'learning_rate': 0.2926310629879836, 'n_estimators': 191, 'subsample': 0.8148974775261706, 'colsample_bytree': 0.8367114711444841, 'gamma': 1.0191792413659062, 'min_child_weight': 4, 'lambda': 0.9317037770270229, 'alpha': 1.4990537595898794, 'scale_pos_weight': 20.98369719887565}. Best is trial 7 with value: 0.8046117640181586.\n"
     ]
    },
    {
     "name": "stdout",
     "output_type": "stream",
     "text": [
      "Trial 16/100 completed in 131.8s | ETA: 3:13:11\n"
     ]
    },
    {
     "name": "stderr",
     "output_type": "stream",
     "text": [
      "[I 2025-04-13 19:37:00,125] Trial 16 finished with value: 0.799223445795242 and parameters: {'max_depth': 6, 'learning_rate': 0.24269077139172135, 'n_estimators': 250, 'subsample': 0.6874100342245976, 'colsample_bytree': 0.712514481896277, 'gamma': 1.1326094320384894, 'min_child_weight': 2, 'lambda': 0.3536223776115437, 'alpha': 1.619964416103755, 'scale_pos_weight': 17.809055908142852}. Best is trial 7 with value: 0.8046117640181586.\n"
     ]
    },
    {
     "name": "stdout",
     "output_type": "stream",
     "text": [
      "Trial 17/100 completed in 148.6s | ETA: 3:11:45\n"
     ]
    },
    {
     "name": "stderr",
     "output_type": "stream",
     "text": [
      "[I 2025-04-13 19:39:01,611] Trial 17 finished with value: 0.7655243811639431 and parameters: {'max_depth': 5, 'learning_rate': 0.2094371133520874, 'n_estimators': 165, 'subsample': 0.7511604347605392, 'colsample_bytree': 0.7520037271229278, 'gamma': 1.51766439074521, 'min_child_weight': 3, 'lambda': 0.7239885716815482, 'alpha': 1.01445467525931, 'scale_pos_weight': 23.678206491813963}. Best is trial 7 with value: 0.8046117640181586.\n"
     ]
    },
    {
     "name": "stdout",
     "output_type": "stream",
     "text": [
      "Trial 18/100 completed in 121.5s | ETA: 3:08:08\n"
     ]
    },
    {
     "name": "stderr",
     "output_type": "stream",
     "text": [
      "[I 2025-04-13 19:41:21,729] Trial 18 finished with value: 0.7938891101606261 and parameters: {'max_depth': 6, 'learning_rate': 0.2495734844580539, 'n_estimators': 216, 'subsample': 0.7419369497613576, 'colsample_bytree': 0.6008614321727577, 'gamma': 1.7748656107078018, 'min_child_weight': 2, 'lambda': 1.1292813384611153, 'alpha': 0.7128019916645606, 'scale_pos_weight': 18.244794562067504}. Best is trial 7 with value: 0.8046117640181586.\n"
     ]
    },
    {
     "name": "stdout",
     "output_type": "stream",
     "text": [
      "Trial 19/100 completed in 140.1s | ETA: 3:06:01\n"
     ]
    },
    {
     "name": "stderr",
     "output_type": "stream",
     "text": [
      "[I 2025-04-13 19:43:45,136] Trial 19 finished with value: 0.7856990526362968 and parameters: {'max_depth': 5, 'learning_rate': 0.2993920960010805, 'n_estimators': 261, 'subsample': 0.679447301230492, 'colsample_bytree': 0.8518267432582829, 'gamma': 1.5314285233209959, 'min_child_weight': 3, 'lambda': 0.4182261167700687, 'alpha': 1.2488134409178402, 'scale_pos_weight': 21.569330476863335}. Best is trial 7 with value: 0.8046117640181586.\n"
     ]
    },
    {
     "name": "stdout",
     "output_type": "stream",
     "text": [
      "Trial 20/100 completed in 143.4s | ETA: 3:04:06\n"
     ]
    },
    {
     "name": "stderr",
     "output_type": "stream",
     "text": [
      "[I 2025-04-13 19:45:53,451] Trial 20 finished with value: 0.7853024209613478 and parameters: {'max_depth': 6, 'learning_rate': 0.20304582859789427, 'n_estimators': 171, 'subsample': 0.6071608190642495, 'colsample_bytree': 0.8031194374643997, 'gamma': 1.222900654747195, 'min_child_weight': 2, 'lambda': 0.15553955429329072, 'alpha': 1.998129703306436, 'scale_pos_weight': 16.300642366792673}. Best is trial 7 with value: 0.8046117640181586.\n"
     ]
    },
    {
     "name": "stdout",
     "output_type": "stream",
     "text": [
      "Trial 21/100 completed in 128.3s | ETA: 3:01:11\n"
     ]
    },
    {
     "name": "stderr",
     "output_type": "stream",
     "text": [
      "[I 2025-04-13 19:48:23,144] Trial 21 finished with value: 0.7993586683824486 and parameters: {'max_depth': 6, 'learning_rate': 0.23867305056281055, 'n_estimators': 252, 'subsample': 0.6930758407569699, 'colsample_bytree': 0.697568551510909, 'gamma': 1.0305359024141556, 'min_child_weight': 2, 'lambda': 0.36128148429055634, 'alpha': 1.5972567242878284, 'scale_pos_weight': 18.59265921198647}. Best is trial 7 with value: 0.8046117640181586.\n"
     ]
    },
    {
     "name": "stdout",
     "output_type": "stream",
     "text": [
      "Trial 22/100 completed in 149.7s | ETA: 2:59:36\n"
     ]
    },
    {
     "name": "stderr",
     "output_type": "stream",
     "text": [
      "[I 2025-04-13 19:50:48,794] Trial 22 finished with value: 0.7961356048660884 and parameters: {'max_depth': 6, 'learning_rate': 0.22617709341259104, 'n_estimators': 236, 'subsample': 0.6447630001879313, 'colsample_bytree': 0.7230862559892828, 'gamma': 0.9940475881311104, 'min_child_weight': 2, 'lambda': 0.46950709856278566, 'alpha': 1.51845161290678, 'scale_pos_weight': 19.340856767412237}. Best is trial 7 with value: 0.8046117640181586.\n"
     ]
    },
    {
     "name": "stdout",
     "output_type": "stream",
     "text": [
      "Trial 23/100 completed in 145.6s | ETA: 2:57:43\n"
     ]
    },
    {
     "name": "stderr",
     "output_type": "stream",
     "text": [
      "[I 2025-04-13 19:53:21,988] Trial 23 finished with value: 0.8034615248319623 and parameters: {'max_depth': 6, 'learning_rate': 0.24508822557661056, 'n_estimators': 266, 'subsample': 0.6987888123932561, 'colsample_bytree': 0.854969057524413, 'gamma': 1.4073234217664288, 'min_child_weight': 2, 'lambda': 0.008852552709234407, 'alpha': 1.6791981254175015, 'scale_pos_weight': 22.816349417858998}. Best is trial 7 with value: 0.8046117640181586.\n"
     ]
    },
    {
     "name": "stdout",
     "output_type": "stream",
     "text": [
      "Trial 24/100 completed in 153.2s | ETA: 2:56:11\n"
     ]
    },
    {
     "name": "stderr",
     "output_type": "stream",
     "text": [
      "[I 2025-04-13 19:55:49,999] Trial 24 finished with value: 0.7624473513861575 and parameters: {'max_depth': 5, 'learning_rate': 0.10190148384887325, 'n_estimators': 270, 'subsample': 0.7352344973338547, 'colsample_bytree': 0.8610606616590604, 'gamma': 1.4135907993844659, 'min_child_weight': 3, 'lambda': 0.2428017558925817, 'alpha': 1.7908056069466187, 'scale_pos_weight': 23.07573051722831}. Best is trial 7 with value: 0.8046117640181586.\n"
     ]
    },
    {
     "name": "stdout",
     "output_type": "stream",
     "text": [
      "Trial 25/100 completed in 148.0s | ETA: 2:54:19\n"
     ]
    },
    {
     "name": "stderr",
     "output_type": "stream",
     "text": [
      "[I 2025-04-13 19:58:05,765] Trial 25 finished with value: 0.7968517546856257 and parameters: {'max_depth': 6, 'learning_rate': 0.2759434719973144, 'n_estimators': 204, 'subsample': 0.762879524528163, 'colsample_bytree': 0.8052443182662494, 'gamma': 1.6960398593676331, 'min_child_weight': 2, 'lambda': 0.018395954888872447, 'alpha': 1.9657717435403916, 'scale_pos_weight': 21.65614537521956}. Best is trial 7 with value: 0.8046117640181586.\n"
     ]
    },
    {
     "name": "stdout",
     "output_type": "stream",
     "text": [
      "Trial 26/100 completed in 135.8s | ETA: 2:51:49\n"
     ]
    },
    {
     "name": "stderr",
     "output_type": "stream",
     "text": [
      "[I 2025-04-13 20:00:22,249] Trial 26 finished with value: 0.7791037272164395 and parameters: {'max_depth': 5, 'learning_rate': 0.25383363421307487, 'n_estimators': 230, 'subsample': 0.7063238663505698, 'colsample_bytree': 0.8696897614995786, 'gamma': 1.9431667783511513, 'min_child_weight': 1, 'lambda': 0.19128914827456692, 'alpha': 1.4356144578907228, 'scale_pos_weight': 23.77312598580038}. Best is trial 7 with value: 0.8046117640181586.\n"
     ]
    },
    {
     "name": "stdout",
     "output_type": "stream",
     "text": [
      "Trial 27/100 completed in 136.5s | ETA: 2:49:22\n"
     ]
    },
    {
     "name": "stderr",
     "output_type": "stream",
     "text": [
      "[I 2025-04-13 20:02:55,504] Trial 27 finished with value: 0.7995191460036275 and parameters: {'max_depth': 6, 'learning_rate': 0.21460209954006354, 'n_estimators': 266, 'subsample': 0.7883350627296744, 'colsample_bytree': 0.8197204287303891, 'gamma': 1.6721834434746494, 'min_child_weight': 2, 'lambda': 0.009060250754980695, 'alpha': 1.1440642667945293, 'scale_pos_weight': 24.65889756737301}. Best is trial 7 with value: 0.8046117640181586.\n"
     ]
    },
    {
     "name": "stdout",
     "output_type": "stream",
     "text": [
      "Trial 28/100 completed in 153.3s | ETA: 2:47:39\n"
     ]
    },
    {
     "name": "stderr",
     "output_type": "stream",
     "text": [
      "[I 2025-04-13 20:05:16,914] Trial 28 finished with value: 0.7574140266525089 and parameters: {'max_depth': 4, 'learning_rate': 0.18761928400423739, 'n_estimators': 279, 'subsample': 0.8449784674673623, 'colsample_bytree': 0.8168564846934107, 'gamma': 1.6449152181390958, 'min_child_weight': 3, 'lambda': 0.7573619892429396, 'alpha': 0.6169625955626642, 'scale_pos_weight': 24.490898540167343}. Best is trial 7 with value: 0.8046117640181586.\n"
     ]
    },
    {
     "name": "stdout",
     "output_type": "stream",
     "text": [
      "Trial 29/100 completed in 141.4s | ETA: 2:45:23\n"
     ]
    },
    {
     "name": "stderr",
     "output_type": "stream",
     "text": [
      "[I 2025-04-13 20:07:07,346] Trial 29 finished with value: 0.7573524439739332 and parameters: {'max_depth': 5, 'learning_rate': 0.21379076731751917, 'n_estimators': 117, 'subsample': 0.7905972260814188, 'colsample_bytree': 0.7719582174039641, 'gamma': 1.428140739488289, 'min_child_weight': 4, 'lambda': 0.2463600276714339, 'alpha': 0.9441732567603283, 'scale_pos_weight': 22.176478831812474}. Best is trial 7 with value: 0.8046117640181586.\n"
     ]
    },
    {
     "name": "stdout",
     "output_type": "stream",
     "text": [
      "Trial 30/100 completed in 110.4s | ETA: 2:41:55\n"
     ]
    },
    {
     "name": "stderr",
     "output_type": "stream",
     "text": [
      "[I 2025-04-13 20:09:41,058] Trial 30 finished with value: 0.8048494436020966 and parameters: {'max_depth': 6, 'learning_rate': 0.27652778734454764, 'n_estimators': 265, 'subsample': 0.8362090038549429, 'colsample_bytree': 0.7685857746897381, 'gamma': 1.8026946853220505, 'min_child_weight': 1, 'lambda': 0.002159188329249894, 'alpha': 1.1314982292596816, 'scale_pos_weight': 24.90802044656094}. Best is trial 30 with value: 0.8048494436020966.\n"
     ]
    },
    {
     "name": "stdout",
     "output_type": "stream",
     "text": [
      "Trial 31/100 completed in 153.7s | ETA: 2:40:09\n"
     ]
    },
    {
     "name": "stderr",
     "output_type": "stream",
     "text": [
      "[I 2025-04-13 20:12:13,358] Trial 31 finished with value: 0.8046077172130947 and parameters: {'max_depth': 6, 'learning_rate': 0.2715542854918832, 'n_estimators': 264, 'subsample': 0.8296030659007126, 'colsample_bytree': 0.7619771886362533, 'gamma': 1.856106571174261, 'min_child_weight': 1, 'lambda': 0.014307955333716905, 'alpha': 1.1887731959976047, 'scale_pos_weight': 24.952946583378097}. Best is trial 30 with value: 0.8048494436020966.\n"
     ]
    },
    {
     "name": "stdout",
     "output_type": "stream",
     "text": [
      "Trial 32/100 completed in 152.3s | ETA: 2:38:18\n"
     ]
    },
    {
     "name": "stderr",
     "output_type": "stream",
     "text": [
      "[I 2025-04-13 20:14:50,919] Trial 32 finished with value: 0.8064278327783879 and parameters: {'max_depth': 6, 'learning_rate': 0.2703381111166576, 'n_estimators': 288, 'subsample': 0.860471957374109, 'colsample_bytree': 0.7372593158825133, 'gamma': 1.893146236198523, 'min_child_weight': 1, 'lambda': 0.5080445254606587, 'alpha': 0.9194755787797677, 'scale_pos_weight': 23.050164769445246}. Best is trial 32 with value: 0.8064278327783879.\n"
     ]
    },
    {
     "name": "stdout",
     "output_type": "stream",
     "text": [
      "Trial 33/100 completed in 157.6s | ETA: 2:36:34\n"
     ]
    },
    {
     "name": "stderr",
     "output_type": "stream",
     "text": [
      "[I 2025-04-13 20:17:28,166] Trial 33 finished with value: 0.806771706799529 and parameters: {'max_depth': 6, 'learning_rate': 0.27190624802683394, 'n_estimators': 286, 'subsample': 0.870937582574354, 'colsample_bytree': 0.739823221008137, 'gamma': 1.8409224389379852, 'min_child_weight': 1, 'lambda': 0.464528221181171, 'alpha': 0.9203093787651381, 'scale_pos_weight': 24.97911304014244}. Best is trial 33 with value: 0.806771706799529.\n"
     ]
    },
    {
     "name": "stdout",
     "output_type": "stream",
     "text": [
      "Trial 34/100 completed in 157.2s | ETA: 2:34:47\n"
     ]
    },
    {
     "name": "stderr",
     "output_type": "stream",
     "text": [
      "[I 2025-04-13 20:19:43,161] Trial 34 finished with value: 0.7464160643658801 and parameters: {'max_depth': 3, 'learning_rate': 0.2826114955033235, 'n_estimators': 287, 'subsample': 0.880091784007316, 'colsample_bytree': 0.7293896386702257, 'gamma': 1.99097876028145, 'min_child_weight': 1, 'lambda': 0.5300890868063115, 'alpha': 0.9320661469250737, 'scale_pos_weight': 23.50681477979719}. Best is trial 33 with value: 0.806771706799529.\n"
     ]
    },
    {
     "name": "stdout",
     "output_type": "stream",
     "text": [
      "Trial 35/100 completed in 135.0s | ETA: 2:32:16\n"
     ]
    },
    {
     "name": "stderr",
     "output_type": "stream",
     "text": [
      "[I 2025-04-13 20:22:15,893] Trial 35 finished with value: 0.7854168442006263 and parameters: {'max_depth': 5, 'learning_rate': 0.2638846979230827, 'n_estimators': 298, 'subsample': 0.8661259675173808, 'colsample_bytree': 0.7362028317474995, 'gamma': 1.8042514366888636, 'min_child_weight': 1, 'lambda': 0.899995922316281, 'alpha': 1.062057084952663, 'scale_pos_weight': 21.306826776881657}. Best is trial 33 with value: 0.806771706799529.\n"
     ]
    },
    {
     "name": "stdout",
     "output_type": "stream",
     "text": [
      "Trial 36/100 completed in 152.7s | ETA: 2:30:17\n"
     ]
    },
    {
     "name": "stderr",
     "output_type": "stream",
     "text": [
      "[I 2025-04-13 20:24:52,442] Trial 36 finished with value: 0.807683263922585 and parameters: {'max_depth': 6, 'learning_rate': 0.28603835204925177, 'n_estimators': 285, 'subsample': 0.8454841306067512, 'colsample_bytree': 0.7782159151789175, 'gamma': 1.571047432494684, 'min_child_weight': 1, 'lambda': 0.6659880465045038, 'alpha': 0.5809617960222216, 'scale_pos_weight': 24.0358826025452}. Best is trial 36 with value: 0.807683263922585.\n"
     ]
    },
    {
     "name": "stdout",
     "output_type": "stream",
     "text": [
      "Trial 37/100 completed in 156.5s | ETA: 2:28:23\n"
     ]
    },
    {
     "name": "stderr",
     "output_type": "stream",
     "text": [
      "[I 2025-04-13 20:27:29,276] Trial 37 finished with value: 0.8080217549360967 and parameters: {'max_depth': 6, 'learning_rate': 0.28491332012825293, 'n_estimators': 284, 'subsample': 0.8545787574004362, 'colsample_bytree': 0.7744171006921464, 'gamma': 1.8791264790226996, 'min_child_weight': 1, 'lambda': 0.6684489914724688, 'alpha': 0.46761566901530394, 'scale_pos_weight': 12.597100687980603}. Best is trial 37 with value: 0.8080217549360967.\n"
     ]
    },
    {
     "name": "stdout",
     "output_type": "stream",
     "text": [
      "Trial 38/100 completed in 156.8s | ETA: 2:26:27\n"
     ]
    },
    {
     "name": "stderr",
     "output_type": "stream",
     "text": [
      "[I 2025-04-13 20:30:06,977] Trial 38 finished with value: 0.808121736326896 and parameters: {'max_depth': 6, 'learning_rate': 0.2908539246387328, 'n_estimators': 284, 'subsample': 0.8635123947104958, 'colsample_bytree': 0.7435041694162364, 'gamma': 1.5911201953990073, 'min_child_weight': 1, 'lambda': 0.6719293474759044, 'alpha': 0.007416821747160518, 'scale_pos_weight': 9.007888824200254}. Best is trial 38 with value: 0.808121736326896.\n"
     ]
    },
    {
     "name": "stdout",
     "output_type": "stream",
     "text": [
      "Trial 39/100 completed in 157.7s | ETA: 2:24:30\n"
     ]
    },
    {
     "name": "stderr",
     "output_type": "stream",
     "text": [
      "[I 2025-04-13 20:32:36,962] Trial 39 finished with value: 0.7863395059451812 and parameters: {'max_depth': 5, 'learning_rate': 0.2993394265088031, 'n_estimators': 279, 'subsample': 0.8989453632471162, 'colsample_bytree': 0.7829216917309221, 'gamma': 1.6108857645519192, 'min_child_weight': 1, 'lambda': 0.7003030822801171, 'alpha': 0.46402372661531793, 'scale_pos_weight': 12.304302841616401}. Best is trial 38 with value: 0.808121736326896.\n"
     ]
    },
    {
     "name": "stdout",
     "output_type": "stream",
     "text": [
      "Trial 40/100 completed in 150.0s | ETA: 2:22:20\n"
     ]
    },
    {
     "name": "stderr",
     "output_type": "stream",
     "text": [
      "[I 2025-04-13 20:35:15,636] Trial 40 finished with value: 0.8064319798353469 and parameters: {'max_depth': 6, 'learning_rate': 0.28957773813353227, 'n_estimators': 281, 'subsample': 0.8151272382404418, 'colsample_bytree': 0.6704909306535186, 'gamma': 1.5851033301146373, 'min_child_weight': 1, 'lambda': 1.0594646212978436, 'alpha': 0.011018729965219593, 'scale_pos_weight': 9.129784722374039}. Best is trial 38 with value: 0.808121736326896.\n"
     ]
    },
    {
     "name": "stdout",
     "output_type": "stream",
     "text": [
      "Trial 41/100 completed in 158.7s | ETA: 2:20:21\n"
     ]
    },
    {
     "name": "stderr",
     "output_type": "stream",
     "text": [
      "[I 2025-04-13 20:38:01,347] Trial 41 finished with value: 0.8079520807437446 and parameters: {'max_depth': 6, 'learning_rate': 0.28831303507846523, 'n_estimators': 300, 'subsample': 0.8661869581750163, 'colsample_bytree': 0.6743234696767273, 'gamma': 1.5440087956397488, 'min_child_weight': 1, 'lambda': 1.0703265423344104, 'alpha': 0.06376275169636392, 'scale_pos_weight': 8.973430514406585}. Best is trial 38 with value: 0.808121736326896.\n"
     ]
    },
    {
     "name": "stdout",
     "output_type": "stream",
     "text": [
      "Trial 42/100 completed in 165.7s | ETA: 2:18:30\n"
     ]
    },
    {
     "name": "stderr",
     "output_type": "stream",
     "text": [
      "[I 2025-04-13 20:40:42,447] Trial 42 finished with value: 0.8057971268830498 and parameters: {'max_depth': 6, 'learning_rate': 0.2873130042825753, 'n_estimators': 291, 'subsample': 0.8570155738000439, 'colsample_bytree': 0.6215067719153592, 'gamma': 1.7485979181241038, 'min_child_weight': 1, 'lambda': 1.3644678769709941, 'alpha': 0.013806225105744196, 'scale_pos_weight': 6.822892131948997}. Best is trial 38 with value: 0.808121736326896.\n"
     ]
    },
    {
     "name": "stdout",
     "output_type": "stream",
     "text": [
      "Trial 43/100 completed in 161.1s | ETA: 2:16:30\n"
     ]
    },
    {
     "name": "stderr",
     "output_type": "stream",
     "text": [
      "[I 2025-04-13 20:43:25,519] Trial 43 finished with value: 0.8070051019683907 and parameters: {'max_depth': 6, 'learning_rate': 0.25644611071655365, 'n_estimators': 300, 'subsample': 0.8815853906515246, 'colsample_bytree': 0.7529216715902646, 'gamma': 1.8601469147802765, 'min_child_weight': 1, 'lambda': 0.8089014012395748, 'alpha': 0.35490092182567673, 'scale_pos_weight': 11.213441548123438}. Best is trial 38 with value: 0.808121736326896.\n"
     ]
    },
    {
     "name": "stdout",
     "output_type": "stream",
     "text": [
      "Trial 44/100 completed in 163.1s | ETA: 2:14:31\n"
     ]
    },
    {
     "name": "stderr",
     "output_type": "stream",
     "text": [
      "[I 2025-04-13 20:46:06,811] Trial 44 finished with value: 0.8079822294876569 and parameters: {'max_depth': 6, 'learning_rate': 0.2594808912663114, 'n_estimators': 300, 'subsample': 0.8838454413583468, 'colsample_bytree': 0.7834729496740854, 'gamma': 1.5588338541451177, 'min_child_weight': 1, 'lambda': 0.8157751258434386, 'alpha': 0.3254632163930688, 'scale_pos_weight': 11.276077881415853}. Best is trial 38 with value: 0.808121736326896.\n"
     ]
    },
    {
     "name": "stdout",
     "output_type": "stream",
     "text": [
      "Trial 45/100 completed in 161.3s | ETA: 2:12:28\n"
     ]
    },
    {
     "name": "stderr",
     "output_type": "stream",
     "text": [
      "[I 2025-04-13 20:48:41,754] Trial 45 finished with value: 0.8074131203734348 and parameters: {'max_depth': 6, 'learning_rate': 0.2840722660300031, 'n_estimators': 278, 'subsample': 0.8469828649272134, 'colsample_bytree': 0.7813353871437524, 'gamma': 1.5409935903776688, 'min_child_weight': 1, 'lambda': 0.9618015297976041, 'alpha': 0.5336560813140616, 'scale_pos_weight': 12.872427647904829}. Best is trial 38 with value: 0.808121736326896.\n"
     ]
    },
    {
     "name": "stdout",
     "output_type": "stream",
     "text": [
      "Trial 46/100 completed in 154.9s | ETA: 2:10:16\n"
     ]
    },
    {
     "name": "stderr",
     "output_type": "stream",
     "text": [
      "[I 2025-04-13 20:51:22,143] Trial 46 finished with value: 0.8056942293461107 and parameters: {'max_depth': 6, 'learning_rate': 0.26224542508699283, 'n_estimators': 299, 'subsample': 0.884672893073203, 'colsample_bytree': 0.650168081824057, 'gamma': 1.3563223266473456, 'min_child_weight': 1, 'lambda': 1.2937561797694532, 'alpha': 0.12385082836959405, 'scale_pos_weight': 10.666714796227208}. Best is trial 38 with value: 0.808121736326896.\n"
     ]
    },
    {
     "name": "stdout",
     "output_type": "stream",
     "text": [
      "Trial 47/100 completed in 160.4s | ETA: 2:08:09\n"
     ]
    },
    {
     "name": "stderr",
     "output_type": "stream",
     "text": [
      "[I 2025-04-13 20:53:41,590] Trial 47 finished with value: 0.7645544126623074 and parameters: {'max_depth': 4, 'learning_rate': 0.29359300645933006, 'n_estimators': 276, 'subsample': 0.8233526374436189, 'colsample_bytree': 0.7924656211577809, 'gamma': 0.5101660935673142, 'min_child_weight': 1, 'lambda': 0.6149964484069602, 'alpha': 0.30950892575577665, 'scale_pos_weight': 8.282124134964807}. Best is trial 38 with value: 0.808121736326896.\n"
     ]
    },
    {
     "name": "stdout",
     "output_type": "stream",
     "text": [
      "Trial 48/100 completed in 139.4s | ETA: 2:05:37\n"
     ]
    },
    {
     "name": "stderr",
     "output_type": "stream",
     "text": [
      "[I 2025-04-13 20:56:20,080] Trial 48 finished with value: 0.8071642259578871 and parameters: {'max_depth': 6, 'learning_rate': 0.2810412185772602, 'n_estimators': 290, 'subsample': 0.8528016391527307, 'colsample_bytree': 0.6920235801757424, 'gamma': 1.1873637008153561, 'min_child_weight': 1, 'lambda': 0.8811591397794684, 'alpha': 0.13153989324694082, 'scale_pos_weight': 13.182523042941025}. Best is trial 38 with value: 0.808121736326896.\n"
     ]
    },
    {
     "name": "stdout",
     "output_type": "stream",
     "text": [
      "Trial 49/100 completed in 158.5s | ETA: 2:03:27\n"
     ]
    },
    {
     "name": "stderr",
     "output_type": "stream",
     "text": [
      "[I 2025-04-13 20:58:17,094] Trial 49 finished with value: 0.7649597922744236 and parameters: {'max_depth': 5, 'learning_rate': 0.26332533154902504, 'n_estimators': 147, 'subsample': 0.8714961344983053, 'colsample_bytree': 0.6703755873778781, 'gamma': 0.12058507983151134, 'min_child_weight': 1, 'lambda': 1.0153178093895776, 'alpha': 0.20780984990271126, 'scale_pos_weight': 7.011411663295638}. Best is trial 38 with value: 0.808121736326896.\n"
     ]
    },
    {
     "name": "stdout",
     "output_type": "stream",
     "text": [
      "Trial 50/100 completed in 117.0s | ETA: 2:00:33\n"
     ]
    },
    {
     "name": "stderr",
     "output_type": "stream",
     "text": [
      "[I 2025-04-13 21:00:26,576] Trial 50 finished with value: 0.7438601437924917 and parameters: {'max_depth': 3, 'learning_rate': 0.29495723790863293, 'n_estimators': 256, 'subsample': 0.8078742514409716, 'colsample_bytree': 0.7136223366380641, 'gamma': 1.4883203919840995, 'min_child_weight': 1, 'lambda': 1.2290708850535697, 'alpha': 0.41427893296922624, 'scale_pos_weight': 9.944669205549244}. Best is trial 38 with value: 0.808121736326896.\n"
     ]
    },
    {
     "name": "stdout",
     "output_type": "stream",
     "text": [
      "Trial 51/100 completed in 129.5s | ETA: 1:57:54\n"
     ]
    },
    {
     "name": "stderr",
     "output_type": "stream",
     "text": [
      "[I 2025-04-13 21:03:00,408] Trial 51 finished with value: 0.8069475728533028 and parameters: {'max_depth': 6, 'learning_rate': 0.28400365507160935, 'n_estimators': 273, 'subsample': 0.8461474835611174, 'colsample_bytree': 0.7785759979885479, 'gamma': 1.6012883620927867, 'min_child_weight': 1, 'lambda': 0.9644135376926517, 'alpha': 0.5806561507040428, 'scale_pos_weight': 12.39534920391192}. Best is trial 38 with value: 0.808121736326896.\n"
     ]
    },
    {
     "name": "stdout",
     "output_type": "stream",
     "text": [
      "Trial 52/100 completed in 153.8s | ETA: 1:55:38\n"
     ]
    },
    {
     "name": "stderr",
     "output_type": "stream",
     "text": [
      "[I 2025-04-13 21:05:35,998] Trial 52 finished with value: 0.8078259352192204 and parameters: {'max_depth': 6, 'learning_rate': 0.286271970417908, 'n_estimators': 282, 'subsample': 0.8907054685343585, 'colsample_bytree': 0.7578019816928113, 'gamma': 1.5726799077909344, 'min_child_weight': 1, 'lambda': 1.5705140084060922, 'alpha': 0.5551573710669689, 'scale_pos_weight': 15.500351827786123}. Best is trial 38 with value: 0.808121736326896.\n"
     ]
    },
    {
     "name": "stdout",
     "output_type": "stream",
     "text": [
      "Trial 53/100 completed in 155.6s | ETA: 1:53:23\n"
     ]
    },
    {
     "name": "stderr",
     "output_type": "stream",
     "text": [
      "[I 2025-04-13 21:08:14,685] Trial 53 finished with value: 0.8096205867153453 and parameters: {'max_depth': 6, 'learning_rate': 0.29928923695340875, 'n_estimators': 293, 'subsample': 0.8954437264796994, 'colsample_bytree': 0.7609483222453111, 'gamma': 1.701028931040545, 'min_child_weight': 1, 'lambda': 1.580345398124721, 'alpha': 0.7150399495444959, 'scale_pos_weight': 13.652373331342194}. Best is trial 53 with value: 0.8096205867153453.\n"
     ]
    },
    {
     "name": "stdout",
     "output_type": "stream",
     "text": [
      "Trial 54/100 completed in 158.7s | ETA: 1:51:10\n"
     ]
    },
    {
     "name": "stderr",
     "output_type": "stream",
     "text": [
      "[I 2025-04-13 21:10:55,112] Trial 54 finished with value: 0.810956989857861 and parameters: {'max_depth': 6, 'learning_rate': 0.2984060087215509, 'n_estimators': 300, 'subsample': 0.8895218555256095, 'colsample_bytree': 0.7531728267384752, 'gamma': 1.3451614135470131, 'min_child_weight': 1, 'lambda': 1.6916460832437166, 'alpha': 0.7335853722040988, 'scale_pos_weight': 15.28579001662903}. Best is trial 54 with value: 0.810956989857861.\n"
     ]
    },
    {
     "name": "stdout",
     "output_type": "stream",
     "text": [
      "Trial 55/100 completed in 160.4s | ETA: 1:48:58\n"
     ]
    },
    {
     "name": "stderr",
     "output_type": "stream",
     "text": [
      "[I 2025-04-13 21:13:35,553] Trial 55 finished with value: 0.8103332263833647 and parameters: {'max_depth': 6, 'learning_rate': 0.2976008901041759, 'n_estimators': 299, 'subsample': 0.8758981710758571, 'colsample_bytree': 0.749821695481474, 'gamma': 1.7424702856128111, 'min_child_weight': 1, 'lambda': 1.936880336131135, 'alpha': 0.6544897589360071, 'scale_pos_weight': 13.622430624376934}. Best is trial 54 with value: 0.810956989857861.\n"
     ]
    },
    {
     "name": "stdout",
     "output_type": "stream",
     "text": [
      "Trial 56/100 completed in 160.4s | ETA: 1:46:45\n"
     ]
    },
    {
     "name": "stderr",
     "output_type": "stream",
     "text": [
      "[I 2025-04-13 21:16:14,986] Trial 56 finished with value: 0.8095751194524349 and parameters: {'max_depth': 6, 'learning_rate': 0.2980307651651808, 'n_estimators': 294, 'subsample': 0.879637663352319, 'colsample_bytree': 0.7432458109110354, 'gamma': 1.7287883665829833, 'min_child_weight': 1, 'lambda': 1.984062613988092, 'alpha': 0.7555481138090292, 'scale_pos_weight': 14.024671102284312}. Best is trial 54 with value: 0.810956989857861.\n"
     ]
    },
    {
     "name": "stdout",
     "output_type": "stream",
     "text": [
      "Trial 57/100 completed in 159.4s | ETA: 1:44:30\n"
     ]
    },
    {
     "name": "stderr",
     "output_type": "stream",
     "text": [
      "[I 2025-04-13 21:18:53,635] Trial 57 finished with value: 0.8098366624779471 and parameters: {'max_depth': 6, 'learning_rate': 0.29930847009886635, 'n_estimators': 292, 'subsample': 0.8961572604930821, 'colsample_bytree': 0.7458155699790379, 'gamma': 1.7160851508544437, 'min_child_weight': 1, 'lambda': 1.995630272146869, 'alpha': 0.7719912072440895, 'scale_pos_weight': 13.66692923238616}. Best is trial 54 with value: 0.810956989857861.\n"
     ]
    },
    {
     "name": "stdout",
     "output_type": "stream",
     "text": [
      "Trial 58/100 completed in 158.6s | ETA: 1:42:13\n"
     ]
    },
    {
     "name": "stderr",
     "output_type": "stream",
     "text": [
      "[I 2025-04-13 21:21:31,567] Trial 58 finished with value: 0.809604596783295 and parameters: {'max_depth': 6, 'learning_rate': 0.2991124243846808, 'n_estimators': 293, 'subsample': 0.8945540689587624, 'colsample_bytree': 0.7210286897118312, 'gamma': 1.7331498138083778, 'min_child_weight': 1, 'lambda': 1.9328582678784227, 'alpha': 0.7713165128189274, 'scale_pos_weight': 13.673348288046116}. Best is trial 54 with value: 0.810956989857861.\n"
     ]
    },
    {
     "name": "stdout",
     "output_type": "stream",
     "text": [
      "Trial 59/100 completed in 157.9s | ETA: 1:39:55\n"
     ]
    },
    {
     "name": "stderr",
     "output_type": "stream",
     "text": [
      "[I 2025-04-13 21:24:02,385] Trial 59 finished with value: 0.7876726076932495 and parameters: {'max_depth': 5, 'learning_rate': 0.2984091141571969, 'n_estimators': 294, 'subsample': 0.8996433599541281, 'colsample_bytree': 0.7218597920172012, 'gamma': 1.740737550517756, 'min_child_weight': 1, 'lambda': 1.9938652173354179, 'alpha': 0.7266252896759176, 'scale_pos_weight': 13.919232807544711}. Best is trial 54 with value: 0.810956989857861.\n"
     ]
    },
    {
     "name": "stdout",
     "output_type": "stream",
     "text": [
      "Trial 60/100 completed in 150.8s | ETA: 1:37:32\n"
     ]
    },
    {
     "name": "stderr",
     "output_type": "stream",
     "text": [
      "[I 2025-04-13 21:26:41,018] Trial 60 finished with value: 0.808887720379595 and parameters: {'max_depth': 6, 'learning_rate': 0.2976706057306449, 'n_estimators': 291, 'subsample': 0.8909886771921999, 'colsample_bytree': 0.7028532980975452, 'gamma': 0.7545177490697144, 'min_child_weight': 2, 'lambda': 1.8877212164997619, 'alpha': 0.8441177030536753, 'scale_pos_weight': 15.882496504775249}. Best is trial 54 with value: 0.810956989857861.\n"
     ]
    },
    {
     "name": "stdout",
     "output_type": "stream",
     "text": [
      "Trial 61/100 completed in 158.6s | ETA: 1:35:14\n"
     ]
    },
    {
     "name": "stderr",
     "output_type": "stream",
     "text": [
      "[I 2025-04-13 21:29:18,930] Trial 61 finished with value: 0.8088177038102147 and parameters: {'max_depth': 6, 'learning_rate': 0.29981554240796615, 'n_estimators': 292, 'subsample': 0.8904662063671218, 'colsample_bytree': 0.7057467584589423, 'gamma': 0.393464522140883, 'min_child_weight': 2, 'lambda': 1.8959701339784425, 'alpha': 0.8100391230966868, 'scale_pos_weight': 15.70129208513435}. Best is trial 54 with value: 0.810956989857861.\n"
     ]
    },
    {
     "name": "stdout",
     "output_type": "stream",
     "text": [
      "Trial 62/100 completed in 157.9s | ETA: 1:32:54\n"
     ]
    },
    {
     "name": "stderr",
     "output_type": "stream",
     "text": [
      "[I 2025-04-13 21:31:51,419] Trial 62 finished with value: 0.8057084294915375 and parameters: {'max_depth': 6, 'learning_rate': 0.2762019731520998, 'n_estimators': 271, 'subsample': 0.8751365207562563, 'colsample_bytree': 0.7471424136770458, 'gamma': 0.7685133361391387, 'min_child_weight': 1, 'lambda': 1.798616757972342, 'alpha': 0.6642437363176217, 'scale_pos_weight': 13.834271813841163}. Best is trial 54 with value: 0.810956989857861.\n"
     ]
    },
    {
     "name": "stdout",
     "output_type": "stream",
     "text": [
      "Trial 63/100 completed in 152.5s | ETA: 1:30:31\n"
     ]
    },
    {
     "name": "stderr",
     "output_type": "stream",
     "text": [
      "[I 2025-04-13 21:34:30,492] Trial 63 finished with value: 0.8084757512641527 and parameters: {'max_depth': 6, 'learning_rate': 0.293551883963214, 'n_estimators': 292, 'subsample': 0.8907778214576186, 'colsample_bytree': 0.7179778817382234, 'gamma': 0.868109287910601, 'min_child_weight': 2, 'lambda': 1.730377595759635, 'alpha': 0.8577019123681948, 'scale_pos_weight': 16.68365049212146}. Best is trial 54 with value: 0.810956989857861.\n"
     ]
    },
    {
     "name": "stdout",
     "output_type": "stream",
     "text": [
      "Trial 64/100 completed in 159.1s | ETA: 1:28:11\n"
     ]
    },
    {
     "name": "stderr",
     "output_type": "stream",
     "text": [
      "[I 2025-04-13 21:37:06,489] Trial 64 finished with value: 0.788323354472728 and parameters: {'max_depth': 6, 'learning_rate': 0.1408764712402366, 'n_estimators': 273, 'subsample': 0.8768191349081569, 'colsample_bytree': 0.7014379481007323, 'gamma': 0.6873081210660281, 'min_child_weight': 1, 'lambda': 1.5826097957682113, 'alpha': 0.7306568563449197, 'scale_pos_weight': 14.857725784463737}. Best is trial 54 with value: 0.810956989857861.\n"
     ]
    },
    {
     "name": "stdout",
     "output_type": "stream",
     "text": [
      "Trial 65/100 completed in 156.0s | ETA: 1:25:49\n"
     ]
    },
    {
     "name": "stderr",
     "output_type": "stream",
     "text": [
      "[I 2025-04-13 21:39:44,647] Trial 65 finished with value: 0.8096445332682503 and parameters: {'max_depth': 6, 'learning_rate': 0.2964187295159937, 'n_estimators': 292, 'subsample': 0.8985376313723027, 'colsample_bytree': 0.7288102079727442, 'gamma': 1.7126853702391454, 'min_child_weight': 1, 'lambda': 1.6873264610128025, 'alpha': 0.8261307423001324, 'scale_pos_weight': 17.217821522132873}. Best is trial 54 with value: 0.810956989857861.\n"
     ]
    },
    {
     "name": "stdout",
     "output_type": "stream",
     "text": [
      "Trial 66/100 completed in 158.2s | ETA: 1:23:27\n"
     ]
    },
    {
     "name": "stderr",
     "output_type": "stream",
     "text": [
      "[I 2025-04-13 21:42:14,926] Trial 66 finished with value: 0.8038921817472622 and parameters: {'max_depth': 6, 'learning_rate': 0.2780780610967544, 'n_estimators': 259, 'subsample': 0.8968325493220732, 'colsample_bytree': 0.731144507387711, 'gamma': 1.6515597069117505, 'min_child_weight': 1, 'lambda': 1.7025633267340259, 'alpha': 0.6893361501099043, 'scale_pos_weight': 17.021088255549362}. Best is trial 54 with value: 0.810956989857861.\n"
     ]
    },
    {
     "name": "stdout",
     "output_type": "stream",
     "text": [
      "Trial 67/100 completed in 150.3s | ETA: 1:21:02\n"
     ]
    },
    {
     "name": "stderr",
     "output_type": "stream",
     "text": [
      "[I 2025-04-13 21:44:27,735] Trial 67 finished with value: 0.7820514341200222 and parameters: {'max_depth': 6, 'learning_rate': 0.16694020307021068, 'n_estimators': 187, 'subsample': 0.876462838891214, 'colsample_bytree': 0.7580250584580601, 'gamma': 1.7081165078450251, 'min_child_weight': 1, 'lambda': 1.4683069248230936, 'alpha': 0.7875442207557649, 'scale_pos_weight': 13.393862275107034}. Best is trial 54 with value: 0.810956989857861.\n"
     ]
    },
    {
     "name": "stdout",
     "output_type": "stream",
     "text": [
      "Trial 68/100 completed in 132.8s | ETA: 1:18:27\n"
     ]
    },
    {
     "name": "stderr",
     "output_type": "stream",
     "text": [
      "[I 2025-04-13 21:46:53,688] Trial 68 finished with value: 0.8033162763700392 and parameters: {'max_depth': 6, 'learning_rate': 0.2923745378450659, 'n_estimators': 243, 'subsample': 0.8357993620731292, 'colsample_bytree': 0.7257257508361407, 'gamma': 1.3510336596557218, 'min_child_weight': 1, 'lambda': 1.930071684393494, 'alpha': 0.6671571766105308, 'scale_pos_weight': 14.421234483137292}. Best is trial 54 with value: 0.810956989857861.\n"
     ]
    },
    {
     "name": "stdout",
     "output_type": "stream",
     "text": [
      "Trial 69/100 completed in 146.0s | ETA: 1:16:00\n"
     ]
    },
    {
     "name": "stderr",
     "output_type": "stream",
     "text": [
      "[I 2025-04-13 21:49:33,806] Trial 69 finished with value: 0.8080288073845248 and parameters: {'max_depth': 6, 'learning_rate': 0.2705394710176192, 'n_estimators': 295, 'subsample': 0.8909133163642639, 'colsample_bytree': 0.7657526494771715, 'gamma': 1.7596928424009328, 'min_child_weight': 1, 'lambda': 1.7590660441150772, 'alpha': 1.0079386955036589, 'scale_pos_weight': 17.53652645365342}. Best is trial 54 with value: 0.810956989857861.\n"
     ]
    },
    {
     "name": "stdout",
     "output_type": "stream",
     "text": [
      "Trial 70/100 completed in 160.1s | ETA: 1:13:38\n"
     ]
    },
    {
     "name": "stderr",
     "output_type": "stream",
     "text": [
      "[I 2025-04-13 21:51:51,899] Trial 70 finished with value: 0.7633448640903882 and parameters: {'max_depth': 4, 'learning_rate': 0.27902117229554574, 'n_estimators': 269, 'subsample': 0.86812413865784, 'colsample_bytree': 0.7481138069198053, 'gamma': 1.993208487542718, 'min_child_weight': 1, 'lambda': 1.832070405594172, 'alpha': 0.8749895694681467, 'scale_pos_weight': 15.133363410879744}. Best is trial 54 with value: 0.810956989857861.\n"
     ]
    },
    {
     "name": "stdout",
     "output_type": "stream",
     "text": [
      "Trial 71/100 completed in 138.1s | ETA: 1:11:07\n"
     ]
    },
    {
     "name": "stderr",
     "output_type": "stream",
     "text": [
      "[I 2025-04-13 21:54:30,511] Trial 71 finished with value: 0.8085817769071594 and parameters: {'max_depth': 6, 'learning_rate': 0.2963852196424894, 'n_estimators': 290, 'subsample': 0.8867024185195967, 'colsample_bytree': 0.6906787652748705, 'gamma': 1.0966942266759254, 'min_child_weight': 2, 'lambda': 1.6693258757918692, 'alpha': 0.7717161770724599, 'scale_pos_weight': 15.842110807029226}. Best is trial 54 with value: 0.810956989857861.\n"
     ]
    },
    {
     "name": "stdout",
     "output_type": "stream",
     "text": [
      "Trial 72/100 completed in 158.6s | ETA: 1:08:44\n"
     ]
    },
    {
     "name": "stderr",
     "output_type": "stream",
     "text": [
      "[I 2025-04-13 21:57:09,852] Trial 72 finished with value: 0.8096033385014242 and parameters: {'max_depth': 6, 'learning_rate': 0.2993106068594102, 'n_estimators': 294, 'subsample': 0.8974735239748031, 'colsample_bytree': 0.7326795420609056, 'gamma': 0.9094503482776037, 'min_child_weight': 1, 'lambda': 1.8849207292305974, 'alpha': 0.8537737128635488, 'scale_pos_weight': 13.674356780928388}. Best is trial 54 with value: 0.810956989857861.\n"
     ]
    },
    {
     "name": "stdout",
     "output_type": "stream",
     "text": [
      "Trial 73/100 completed in 159.3s | ETA: 1:06:22\n"
     ]
    },
    {
     "name": "stderr",
     "output_type": "stream",
     "text": [
      "[I 2025-04-13 21:59:43,847] Trial 73 finished with value: 0.8071858869360401 and parameters: {'max_depth': 6, 'learning_rate': 0.29248532187204823, 'n_estimators': 277, 'subsample': 0.8997350492640752, 'colsample_bytree': 0.7345291376038349, 'gamma': 0.9005390666757491, 'min_child_weight': 1, 'lambda': 1.9639527295973682, 'alpha': 0.7634144493289341, 'scale_pos_weight': 11.774010693133402}. Best is trial 54 with value: 0.810956989857861.\n"
     ]
    },
    {
     "name": "stdout",
     "output_type": "stream",
     "text": [
      "Trial 74/100 completed in 154.0s | ETA: 1:03:56\n"
     ]
    },
    {
     "name": "stderr",
     "output_type": "stream",
     "text": [
      "[I 2025-04-13 22:02:23,665] Trial 74 finished with value: 0.8103196932757015 and parameters: {'max_depth': 6, 'learning_rate': 0.2998056876593223, 'n_estimators': 295, 'subsample': 0.8820600606541797, 'colsample_bytree': 0.7513262632085604, 'gamma': 1.9256388252126735, 'min_child_weight': 1, 'lambda': 1.806537401963739, 'alpha': 0.6269634667043714, 'scale_pos_weight': 13.838418263943167}. Best is trial 54 with value: 0.810956989857861.\n"
     ]
    },
    {
     "name": "stdout",
     "output_type": "stream",
     "text": [
      "Trial 75/100 completed in 159.8s | ETA: 1:01:33\n"
     ]
    },
    {
     "name": "stderr",
     "output_type": "stream",
     "text": [
      "[I 2025-04-13 22:05:00,916] Trial 75 finished with value: 0.8089780184542154 and parameters: {'max_depth': 6, 'learning_rate': 0.2922992885283198, 'n_estimators': 286, 'subsample': 0.8745789482967928, 'colsample_bytree': 0.7557602719779584, 'gamma': 1.9374946756207934, 'min_child_weight': 1, 'lambda': 1.831956047992136, 'alpha': 0.6256365823993134, 'scale_pos_weight': 13.449729952250593}. Best is trial 54 with value: 0.810956989857861.\n"
     ]
    },
    {
     "name": "stdout",
     "output_type": "stream",
     "text": [
      "Trial 76/100 completed in 157.3s | ETA: 0:59:08\n"
     ]
    },
    {
     "name": "stderr",
     "output_type": "stream",
     "text": [
      "[I 2025-04-13 22:07:37,537] Trial 76 finished with value: 0.8068392725761089 and parameters: {'max_depth': 6, 'learning_rate': 0.2807927395945993, 'n_estimators': 282, 'subsample': 0.858863908644241, 'colsample_bytree': 0.7111264552589768, 'gamma': 1.8207916778322115, 'min_child_weight': 1, 'lambda': 1.6517323130942168, 'alpha': 0.5069038219296438, 'scale_pos_weight': 14.820303866507187}. Best is trial 54 with value: 0.810956989857861.\n"
     ]
    },
    {
     "name": "stdout",
     "output_type": "stream",
     "text": [
      "Trial 77/100 completed in 156.6s | ETA: 0:56:43\n"
     ]
    },
    {
     "name": "stderr",
     "output_type": "stream",
     "text": [
      "[I 2025-04-13 22:10:08,201] Trial 77 finished with value: 0.788088660620041 and parameters: {'max_depth': 5, 'learning_rate': 0.2998145612478081, 'n_estimators': 296, 'subsample': 0.8820883795635621, 'colsample_bytree': 0.7691571941230078, 'gamma': 1.6695115487495324, 'min_child_weight': 4, 'lambda': 1.519262205279316, 'alpha': 0.968677179153246, 'scale_pos_weight': 15.310263320477336}. Best is trial 54 with value: 0.810956989857861.\n"
     ]
    },
    {
     "name": "stdout",
     "output_type": "stream",
     "text": [
      "Trial 78/100 completed in 150.7s | ETA: 0:54:16\n"
     ]
    },
    {
     "name": "stderr",
     "output_type": "stream",
     "text": [
      "[I 2025-04-13 22:12:45,506] Trial 78 finished with value: 0.807201380536 and parameters: {'max_depth': 6, 'learning_rate': 0.2682739311813195, 'n_estimators': 289, 'subsample': 0.8907831468687373, 'colsample_bytree': 0.7628169279511616, 'gamma': 0.9682407402575949, 'min_child_weight': 1, 'lambda': 1.8719505434126806, 'alpha': 0.8744428287682215, 'scale_pos_weight': 16.333482598491198}. Best is trial 54 with value: 0.810956989857861.\n"
     ]
    },
    {
     "name": "stdout",
     "output_type": "stream",
     "text": [
      "Trial 79/100 completed in 157.3s | ETA: 0:51:50\n"
     ]
    },
    {
     "name": "stderr",
     "output_type": "stream",
     "text": [
      "[I 2025-04-13 22:14:43,325] Trial 79 finished with value: 0.785323907026211 and parameters: {'max_depth': 6, 'learning_rate': 0.28825413766979024, 'n_estimators': 137, 'subsample': 0.8997880210465486, 'colsample_bytree': 0.7260699345613025, 'gamma': 1.9320146592834955, 'min_child_weight': 1, 'lambda': 1.7934297476142236, 'alpha': 0.6580239274740481, 'scale_pos_weight': 11.86685025133265}. Best is trial 54 with value: 0.810956989857861.\n"
     ]
    },
    {
     "name": "stdout",
     "output_type": "stream",
     "text": [
      "Trial 80/100 completed in 117.8s | ETA: 0:49:14\n"
     ]
    },
    {
     "name": "stderr",
     "output_type": "stream",
     "text": [
      "[I 2025-04-13 22:17:01,049] Trial 80 finished with value: 0.7976546030693551 and parameters: {'max_depth': 6, 'learning_rate': 0.2755265226570328, 'n_estimators': 211, 'subsample': 0.8664704363214912, 'colsample_bytree': 0.749144082368989, 'gamma': 1.4698446084538097, 'min_child_weight': 1, 'lambda': 1.906000970538861, 'alpha': 0.606891534021708, 'scale_pos_weight': 19.17639072014587}. Best is trial 54 with value: 0.810956989857861.\n"
     ]
    },
    {
     "name": "stdout",
     "output_type": "stream",
     "text": [
      "Trial 81/100 completed in 137.7s | ETA: 0:46:44\n"
     ]
    },
    {
     "name": "stderr",
     "output_type": "stream",
     "text": [
      "[I 2025-04-13 22:19:41,311] Trial 81 finished with value: 0.8095527633302477 and parameters: {'max_depth': 6, 'learning_rate': 0.2893973390901929, 'n_estimators': 296, 'subsample': 0.8798469858600863, 'colsample_bytree': 0.7424373531980216, 'gamma': 1.7790456574470865, 'min_child_weight': 1, 'lambda': 1.9597083647086266, 'alpha': 1.073487714035993, 'scale_pos_weight': 14.125582130595458}. Best is trial 54 with value: 0.810956989857861.\n"
     ]
    },
    {
     "name": "stdout",
     "output_type": "stream",
     "text": [
      "Trial 82/100 completed in 160.3s | ETA: 0:44:19\n"
     ]
    },
    {
     "name": "stderr",
     "output_type": "stream",
     "text": [
      "[I 2025-04-13 22:22:22,509] Trial 82 finished with value: 0.8104542961733627 and parameters: {'max_depth': 6, 'learning_rate': 0.2959945379823599, 'n_estimators': 300, 'subsample': 0.8834143322976487, 'colsample_bytree': 0.738856164169178, 'gamma': 1.7226921670452788, 'min_child_weight': 1, 'lambda': 1.8353209739773058, 'alpha': 0.8207744785270366, 'scale_pos_weight': 14.501572360693878}. Best is trial 54 with value: 0.810956989857861.\n"
     ]
    },
    {
     "name": "stdout",
     "output_type": "stream",
     "text": [
      "Trial 83/100 completed in 161.2s | ETA: 0:41:54\n"
     ]
    },
    {
     "name": "stderr",
     "output_type": "stream",
     "text": [
      "[I 2025-04-13 22:24:58,340] Trial 83 finished with value: 0.8092577490154091 and parameters: {'max_depth': 6, 'learning_rate': 0.2999566214733409, 'n_estimators': 282, 'subsample': 0.8873058835289585, 'colsample_bytree': 0.7366090822724867, 'gamma': 1.9101913079836137, 'min_child_weight': 1, 'lambda': 1.768833816083405, 'alpha': 0.8404242926120478, 'scale_pos_weight': 13.548718709454945}. Best is trial 54 with value: 0.810956989857861.\n"
     ]
    },
    {
     "name": "stdout",
     "output_type": "stream",
     "text": [
      "Trial 84/100 completed in 155.8s | ETA: 0:39:28\n"
     ]
    },
    {
     "name": "stderr",
     "output_type": "stream",
     "text": [
      "[I 2025-04-13 22:27:39,471] Trial 84 finished with value: 0.8087799674152114 and parameters: {'max_depth': 6, 'learning_rate': 0.2832607922919028, 'n_estimators': 300, 'subsample': 0.8614198028005505, 'colsample_bytree': 0.7175752217788527, 'gamma': 1.6410102521867072, 'min_child_weight': 1, 'lambda': 1.8385747598160407, 'alpha': 0.9037733163412259, 'scale_pos_weight': 12.91262419075867}. Best is trial 54 with value: 0.810956989857861.\n"
     ]
    },
    {
     "name": "stdout",
     "output_type": "stream",
     "text": [
      "Trial 85/100 completed in 161.1s | ETA: 0:37:02\n"
     ]
    },
    {
     "name": "stderr",
     "output_type": "stream",
     "text": [
      "[I 2025-04-13 22:30:16,757] Trial 85 finished with value: 0.8085831698957376 and parameters: {'max_depth': 6, 'learning_rate': 0.2934191609590232, 'n_estimators': 287, 'subsample': 0.8530720366015964, 'colsample_bytree': 0.7306316672021933, 'gamma': 1.8196786315097697, 'min_child_weight': 1, 'lambda': 1.7003880397087967, 'alpha': 0.8084086551937177, 'scale_pos_weight': 14.55190752865356}. Best is trial 54 with value: 0.810956989857861.\n"
     ]
    },
    {
     "name": "stdout",
     "output_type": "stream",
     "text": [
      "Trial 86/100 completed in 157.3s | ETA: 0:34:36\n"
     ]
    },
    {
     "name": "stderr",
     "output_type": "stream",
     "text": [
      "[I 2025-04-13 22:32:51,083] Trial 86 finished with value: 0.8076102658959703 and parameters: {'max_depth': 6, 'learning_rate': 0.28911778411807476, 'n_estimators': 276, 'subsample': 0.8730657459631208, 'colsample_bytree': 0.752595140039266, 'gamma': 1.7143005113588363, 'min_child_weight': 1, 'lambda': 1.6002858226108032, 'alpha': 0.709415791802987, 'scale_pos_weight': 17.15033745063505}. Best is trial 54 with value: 0.810956989857861.\n"
     ]
    },
    {
     "name": "stdout",
     "output_type": "stream",
     "text": [
      "Trial 87/100 completed in 154.3s | ETA: 0:32:08\n"
     ]
    },
    {
     "name": "stderr",
     "output_type": "stream",
     "text": [
      "[I 2025-04-13 22:35:30,422] Trial 87 finished with value: 0.810221505970612 and parameters: {'max_depth': 6, 'learning_rate': 0.2943741331414665, 'n_estimators': 296, 'subsample': 0.893416466101401, 'colsample_bytree': 0.7652047836869795, 'gamma': 1.8529786208365935, 'min_child_weight': 1, 'lambda': 1.6529241126501704, 'alpha': 0.9868964575671018, 'scale_pos_weight': 11.838861128961764}. Best is trial 54 with value: 0.810956989857861.\n"
     ]
    },
    {
     "name": "stdout",
     "output_type": "stream",
     "text": [
      "Trial 88/100 completed in 159.3s | ETA: 0:29:41\n"
     ]
    },
    {
     "name": "stderr",
     "output_type": "stream",
     "text": [
      "[I 2025-04-13 22:38:08,670] Trial 88 finished with value: 0.8072199160225912 and parameters: {'max_depth': 6, 'learning_rate': 0.27353187868710765, 'n_estimators': 287, 'subsample': 0.6040081115053424, 'colsample_bytree': 0.770234967071375, 'gamma': 1.8450347879220474, 'min_child_weight': 1, 'lambda': 1.4869597900796858, 'alpha': 1.0439225584224137, 'scale_pos_weight': 11.991880650424704}. Best is trial 54 with value: 0.810956989857861.\n"
     ]
    },
    {
     "name": "stdout",
     "output_type": "stream",
     "text": [
      "Trial 89/100 completed in 158.2s | ETA: 0:27:14\n"
     ]
    },
    {
     "name": "stderr",
     "output_type": "stream",
     "text": [
      "[I 2025-04-13 22:40:48,635] Trial 89 finished with value: 0.8090304826849737 and parameters: {'max_depth': 6, 'learning_rate': 0.28112563789447365, 'n_estimators': 297, 'subsample': 0.8846359537685418, 'colsample_bytree': 0.7900898861928127, 'gamma': 1.8884770912222155, 'min_child_weight': 1, 'lambda': 1.65838346476285, 'alpha': 0.9534866463899183, 'scale_pos_weight': 11.07716301205259}. Best is trial 54 with value: 0.810956989857861.\n"
     ]
    },
    {
     "name": "stdout",
     "output_type": "stream",
     "text": [
      "Trial 90/100 completed in 160.0s | ETA: 0:24:47\n"
     ]
    },
    {
     "name": "stderr",
     "output_type": "stream",
     "text": [
      "[I 2025-04-13 22:43:14,059] Trial 90 finished with value: 0.7825477683343321 and parameters: {'max_depth': 5, 'learning_rate': 0.2663800206816364, 'n_estimators': 268, 'subsample': 0.7639748449204495, 'colsample_bytree': 0.7605144565746399, 'gamma': 1.777854503381257, 'min_child_weight': 1, 'lambda': 1.7337009345923398, 'alpha': 0.5008866793346535, 'scale_pos_weight': 12.764978604152262}. Best is trial 54 with value: 0.810956989857861.\n"
     ]
    },
    {
     "name": "stdout",
     "output_type": "stream",
     "text": [
      "Trial 91/100 completed in 145.4s | ETA: 0:22:18\n"
     ]
    },
    {
     "name": "stderr",
     "output_type": "stream",
     "text": [
      "[I 2025-04-13 22:45:53,210] Trial 91 finished with value: 0.8100711421490646 and parameters: {'max_depth': 6, 'learning_rate': 0.2946263966058138, 'n_estimators': 294, 'subsample': 0.8961510040681766, 'colsample_bytree': 0.8047946507014473, 'gamma': 1.9659974155603708, 'min_child_weight': 1, 'lambda': 1.8558750399023376, 'alpha': 0.6175442426498535, 'scale_pos_weight': 14.364071607894232}. Best is trial 54 with value: 0.810956989857861.\n"
     ]
    },
    {
     "name": "stdout",
     "output_type": "stream",
     "text": [
      "Trial 92/100 completed in 159.2s | ETA: 0:19:50\n"
     ]
    },
    {
     "name": "stderr",
     "output_type": "stream",
     "text": [
      "[I 2025-04-13 22:48:28,237] Trial 92 finished with value: 0.8086605374796952 and parameters: {'max_depth': 6, 'learning_rate': 0.2942160918366048, 'n_estimators': 280, 'subsample': 0.8930254701841905, 'colsample_bytree': 0.7990196161263783, 'gamma': 1.994377290941196, 'min_child_weight': 1, 'lambda': 1.9382870169289412, 'alpha': 0.6263654019204065, 'scale_pos_weight': 14.40962343665471}. Best is trial 54 with value: 0.810956989857861.\n"
     ]
    },
    {
     "name": "stdout",
     "output_type": "stream",
     "text": [
      "Trial 93/100 completed in 155.0s | ETA: 0:17:22\n"
     ]
    },
    {
     "name": "stderr",
     "output_type": "stream",
     "text": [
      "[I 2025-04-13 22:51:05,966] Trial 93 finished with value: 0.8088141228358418 and parameters: {'max_depth': 6, 'learning_rate': 0.28754763398626504, 'n_estimators': 291, 'subsample': 0.8832586274002197, 'colsample_bytree': 0.741524846009099, 'gamma': 1.9603129561846269, 'min_child_weight': 1, 'lambda': 1.8139702549235246, 'alpha': 0.7029665000652477, 'scale_pos_weight': 16.249287139187903}. Best is trial 54 with value: 0.810956989857861.\n"
     ]
    },
    {
     "name": "stdout",
     "output_type": "stream",
     "text": [
      "Trial 94/100 completed in 157.7s | ETA: 0:14:53\n"
     ]
    },
    {
     "name": "stderr",
     "output_type": "stream",
     "text": [
      "[I 2025-04-13 22:53:46,232] Trial 94 finished with value: 0.8116306670007959 and parameters: {'max_depth': 6, 'learning_rate': 0.2948641667274368, 'n_estimators': 300, 'subsample': 0.871795472197383, 'colsample_bytree': 0.818803808976565, 'gamma': 1.883267048382789, 'min_child_weight': 1, 'lambda': 1.5493470554947497, 'alpha': 0.45298380003513483, 'scale_pos_weight': 13.136280206298453}. Best is trial 94 with value: 0.8116306670007959.\n"
     ]
    },
    {
     "name": "stdout",
     "output_type": "stream",
     "text": [
      "Trial 95/100 completed in 160.3s | ETA: 0:12:25\n"
     ]
    },
    {
     "name": "stderr",
     "output_type": "stream",
     "text": [
      "[I 2025-04-13 22:56:30,947] Trial 95 finished with value: 0.7836763453675689 and parameters: {'max_depth': 6, 'learning_rate': 0.10347326529513934, 'n_estimators': 300, 'subsample': 0.8667384382486961, 'colsample_bytree': 0.8088231339848715, 'gamma': 1.8889686881263668, 'min_child_weight': 1, 'lambda': 1.5402837205485398, 'alpha': 0.45713086488784355, 'scale_pos_weight': 12.24453166619222}. Best is trial 94 with value: 0.8116306670007959.\n"
     ]
    },
    {
     "name": "stdout",
     "output_type": "stream",
     "text": [
      "Trial 96/100 completed in 164.7s | ETA: 0:09:56\n"
     ]
    },
    {
     "name": "stderr",
     "output_type": "stream",
     "text": [
      "[I 2025-04-13 22:59:07,839] Trial 96 finished with value: 0.8090378362307226 and parameters: {'max_depth': 6, 'learning_rate': 0.28474710657066404, 'n_estimators': 285, 'subsample': 0.8707161157881305, 'colsample_bytree': 0.8233930006062355, 'gamma': 1.8045423186690157, 'min_child_weight': 1, 'lambda': 1.6259825746157215, 'alpha': 0.5370865264814259, 'scale_pos_weight': 18.191059883344824}. Best is trial 94 with value: 0.8116306670007959.\n"
     ]
    },
    {
     "name": "stdout",
     "output_type": "stream",
     "text": [
      "Trial 97/100 completed in 156.9s | ETA: 0:07:27\n"
     ]
    },
    {
     "name": "stderr",
     "output_type": "stream",
     "text": [
      "[I 2025-04-13 23:00:56,297] Trial 97 finished with value: 0.777635095693964 and parameters: {'max_depth': 6, 'learning_rate': 0.2906109435772942, 'n_estimators': 101, 'subsample': 0.8390152394617727, 'colsample_bytree': 0.8292512994414949, 'gamma': 1.954102579975821, 'min_child_weight': 3, 'lambda': 1.7047962681271778, 'alpha': 0.5802091466108812, 'scale_pos_weight': 13.177930021018264}. Best is trial 94 with value: 0.8116306670007959.\n"
     ]
    },
    {
     "name": "stdout",
     "output_type": "stream",
     "text": [
      "Trial 98/100 completed in 108.5s | ETA: 0:04:57\n"
     ]
    },
    {
     "name": "stderr",
     "output_type": "stream",
     "text": [
      "[I 2025-04-13 23:03:13,210] Trial 98 finished with value: 0.7479141079058109 and parameters: {'max_depth': 3, 'learning_rate': 0.2949071212721645, 'n_estimators': 296, 'subsample': 0.8509038992724206, 'colsample_bytree': 0.8468711110808823, 'gamma': 1.8463274933650828, 'min_child_weight': 1, 'lambda': 1.436138390646801, 'alpha': 0.40798285407546336, 'scale_pos_weight': 15.347046385812476}. Best is trial 94 with value: 0.8116306670007959.\n"
     ]
    },
    {
     "name": "stdout",
     "output_type": "stream",
     "text": [
      "Trial 99/100 completed in 136.9s | ETA: 0:02:28\n"
     ]
    },
    {
     "name": "stderr",
     "output_type": "stream",
     "text": [
      "[I 2025-04-13 23:05:47,345] Trial 99 finished with value: 0.8068923487320633 and parameters: {'max_depth': 6, 'learning_rate': 0.27959441110810246, 'n_estimators': 273, 'subsample': 0.8612564508454825, 'colsample_bytree': 0.8092266846591465, 'gamma': 1.6774589791456678, 'min_child_weight': 1, 'lambda': 1.7479517694697881, 'alpha': 0.6508054047816392, 'scale_pos_weight': 10.589475251499003}. Best is trial 94 with value: 0.8116306670007959.\n"
     ]
    },
    {
     "name": "stdout",
     "output_type": "stream",
     "text": [
      "Trial 100/100 completed in 154.1s | ETA: 0:00:00\n"
     ]
    }
   ],
   "source": [
    "# === Step 3 ===\n",
    "\n",
    "study = optuna.create_study(direction=\"maximize\")\n",
    "start_time = time.time()\n",
    "\n",
    "N_TRIALS = 100\n",
    "\n",
    "for i in range(N_TRIALS):\n",
    "    trial_start = time.time()\n",
    "    study.optimize(objective, n_trials=1, show_progress_bar=False)\n",
    "    trial_time = time.time() - trial_start\n",
    "\n",
    "    total_elapsed = time.time() - start_time\n",
    "    avg_per_trial = total_elapsed / (i + 1)\n",
    "    remaining = N_TRIALS - (i + 1)\n",
    "    eta = timedelta(seconds=int(avg_per_trial * remaining))\n",
    "\n",
    "    print(f\"Trial {i+1}/{N_TRIALS} completed in {trial_time:.1f}s | ETA: {eta}\")\n"
   ]
  },
  {
   "cell_type": "markdown",
   "id": "3692e336",
   "metadata": {},
   "source": [
    "Trial 94/100 completed in 157.7s | ETA: 0:14:53\n",
    "[I 2025-04-13 22:53:46,232] Trial 94 finished with value: 0.8116306670007959 and parameters: {'max_depth': 6, 'learning_rate': 0.2948641667274368, 'n_estimators': 300, 'subsample': 0.871795472197383, 'colsample_bytree': 0.818803808976565, 'gamma': 1.883267048382789, 'min_child_weight': 1, 'lambda': 1.5493470554947497, 'alpha': 0.45298380003513483, 'scale_pos_weight': 13.136280206298453}. Best is trial 94 with value: 0.8116306670007959. \n",
    "These are the hyperparameters of the best trial."
   ]
  },
  {
   "cell_type": "code",
   "execution_count": null,
   "id": "16dba8b8",
   "metadata": {},
   "outputs": [
    {
     "name": "stdout",
     "output_type": "stream",
     "text": [
      "Final Test AUC: 0.8133\n"
     ]
    }
   ],
   "source": [
    "# === Train final model on entire training set with best params ===\n",
    "best_params = study.best_params.copy()\n",
    "best_params.update({\n",
    "    'objective': 'binary:logistic',\n",
    "    'eval_metric': 'auc',\n",
    "    'tree_method': 'hist',\n",
    "    'device': 'cuda'  \n",
    "})\n",
    "\n",
    "final_model = xgb.XGBClassifier(**best_params)\n",
    "\n",
    "# Train on all training data (no validation split, no early stopping)\n",
    "final_model.fit(X_train_all, y_train_all, verbose=True)\n",
    "\n",
    "# === Evaluate on test set ===\n",
    "from sklearn.metrics import roc_auc_score\n",
    "\n",
    "test_preds = final_model.predict_proba(X_test_all)[:, 1]\n",
    "test_auc = roc_auc_score(y_test_all, test_preds)\n",
    "print(f\"Final Test AUC: {test_auc:.4f}\")\n"
   ]
  },
  {
   "cell_type": "markdown",
   "id": "c36dc891",
   "metadata": {},
   "source": [
    "Not the best but we know this is quite a difficult problem and we did a very extensive tuning. Let's evaluate all the other metrics now to check how we did."
   ]
  },
  {
   "cell_type": "code",
   "execution_count": null,
   "id": "3ae124f3",
   "metadata": {},
   "outputs": [
    {
     "name": "stdout",
     "output_type": "stream",
     "text": [
      "\n",
      "✅ Final Test Metrics:\n",
      "AUC:       0.8133\n",
      "Accuracy:  0.8309\n",
      "Precision: 0.1819\n",
      "Recall:    0.6025\n",
      "F1 Score:  0.2795\n",
      "\n",
      "Confusion Matrix:\n",
      " [[2683276  495603]\n",
      " [  72714  110207]]\n",
      "\n",
      "Full Classification Report:\n",
      "               precision    recall  f1-score   support\n",
      "\n",
      "         0.0     0.9736    0.8441    0.9042   3178879\n",
      "         1.0     0.1819    0.6025    0.2795    182921\n",
      "\n",
      "    accuracy                         0.8309   3361800\n",
      "   macro avg     0.5778    0.7233    0.5918   3361800\n",
      "weighted avg     0.9305    0.8309    0.8702   3361800\n",
      "\n"
     ]
    }
   ],
   "source": [
    "from sklearn.metrics import (\n",
    "    accuracy_score, precision_score, recall_score, f1_score,\n",
    "    confusion_matrix, classification_report\n",
    ")\n",
    "\n",
    "# Convert probabilities to binary predictions\n",
    "test_labels = (test_preds >= 0.5).astype(int)\n",
    "\n",
    "# Compute standard metrics\n",
    "test_accuracy = accuracy_score(y_test_all, test_labels)\n",
    "test_precision = precision_score(y_test_all, test_labels, zero_division=0)\n",
    "test_recall = recall_score(y_test_all, test_labels, zero_division=0)\n",
    "test_f1 = f1_score(y_test_all, test_labels, zero_division=0)\n",
    "test_conf_matrix = confusion_matrix(y_test_all, test_labels)\n",
    "test_report = classification_report(y_test_all, test_labels, digits=4)\n",
    "\n",
    "print(\"\\nFinal Test Metrics:\")\n",
    "print(f\"AUC:       {test_auc:.4f}\")\n",
    "print(f\"Accuracy:  {test_accuracy:.4f}\")\n",
    "print(f\"Precision: {test_precision:.4f}\")\n",
    "print(f\"Recall:    {test_recall:.4f}\")\n",
    "print(f\"F1 Score:  {test_f1:.4f}\")\n",
    "print(\"\\nConfusion Matrix:\\n\", test_conf_matrix)\n",
    "print(\"\\nFull Classification Report:\\n\", test_report)\n"
   ]
  },
  {
   "cell_type": "markdown",
   "id": "548e3c5b",
   "metadata": {},
   "source": [
    "Let's extract feature importance"
   ]
  },
  {
   "cell_type": "code",
   "execution_count": null,
   "id": "fddcb2c0",
   "metadata": {},
   "outputs": [
    {
     "data": {
      "text/html": [
       "<div>\n",
       "<style scoped>\n",
       "    .dataframe tbody tr th:only-of-type {\n",
       "        vertical-align: middle;\n",
       "    }\n",
       "\n",
       "    .dataframe tbody tr th {\n",
       "        vertical-align: top;\n",
       "    }\n",
       "\n",
       "    .dataframe thead th {\n",
       "        text-align: right;\n",
       "    }\n",
       "</style>\n",
       "<table border=\"1\" class=\"dataframe\">\n",
       "  <thead>\n",
       "    <tr style=\"text-align: right;\">\n",
       "      <th></th>\n",
       "      <th>Feature Index</th>\n",
       "      <th>Importance</th>\n",
       "    </tr>\n",
       "  </thead>\n",
       "  <tbody>\n",
       "    <tr>\n",
       "      <th>15</th>\n",
       "      <td>15</td>\n",
       "      <td>0.121020</td>\n",
       "    </tr>\n",
       "    <tr>\n",
       "      <th>1</th>\n",
       "      <td>1</td>\n",
       "      <td>0.066357</td>\n",
       "    </tr>\n",
       "    <tr>\n",
       "      <th>20</th>\n",
       "      <td>20</td>\n",
       "      <td>0.054123</td>\n",
       "    </tr>\n",
       "    <tr>\n",
       "      <th>24</th>\n",
       "      <td>24</td>\n",
       "      <td>0.052567</td>\n",
       "    </tr>\n",
       "    <tr>\n",
       "      <th>31</th>\n",
       "      <td>31</td>\n",
       "      <td>0.050008</td>\n",
       "    </tr>\n",
       "    <tr>\n",
       "      <th>30</th>\n",
       "      <td>30</td>\n",
       "      <td>0.046646</td>\n",
       "    </tr>\n",
       "    <tr>\n",
       "      <th>29</th>\n",
       "      <td>29</td>\n",
       "      <td>0.043578</td>\n",
       "    </tr>\n",
       "    <tr>\n",
       "      <th>25</th>\n",
       "      <td>25</td>\n",
       "      <td>0.039008</td>\n",
       "    </tr>\n",
       "    <tr>\n",
       "      <th>11</th>\n",
       "      <td>11</td>\n",
       "      <td>0.031604</td>\n",
       "    </tr>\n",
       "    <tr>\n",
       "      <th>3</th>\n",
       "      <td>3</td>\n",
       "      <td>0.029356</td>\n",
       "    </tr>\n",
       "    <tr>\n",
       "      <th>5</th>\n",
       "      <td>5</td>\n",
       "      <td>0.028194</td>\n",
       "    </tr>\n",
       "    <tr>\n",
       "      <th>26</th>\n",
       "      <td>26</td>\n",
       "      <td>0.026160</td>\n",
       "    </tr>\n",
       "    <tr>\n",
       "      <th>4</th>\n",
       "      <td>4</td>\n",
       "      <td>0.025668</td>\n",
       "    </tr>\n",
       "    <tr>\n",
       "      <th>23</th>\n",
       "      <td>23</td>\n",
       "      <td>0.025110</td>\n",
       "    </tr>\n",
       "    <tr>\n",
       "      <th>16</th>\n",
       "      <td>16</td>\n",
       "      <td>0.023460</td>\n",
       "    </tr>\n",
       "    <tr>\n",
       "      <th>10</th>\n",
       "      <td>10</td>\n",
       "      <td>0.022752</td>\n",
       "    </tr>\n",
       "    <tr>\n",
       "      <th>2</th>\n",
       "      <td>2</td>\n",
       "      <td>0.022580</td>\n",
       "    </tr>\n",
       "    <tr>\n",
       "      <th>7</th>\n",
       "      <td>7</td>\n",
       "      <td>0.022490</td>\n",
       "    </tr>\n",
       "    <tr>\n",
       "      <th>19</th>\n",
       "      <td>19</td>\n",
       "      <td>0.022036</td>\n",
       "    </tr>\n",
       "    <tr>\n",
       "      <th>9</th>\n",
       "      <td>9</td>\n",
       "      <td>0.021931</td>\n",
       "    </tr>\n",
       "    <tr>\n",
       "      <th>27</th>\n",
       "      <td>27</td>\n",
       "      <td>0.021847</td>\n",
       "    </tr>\n",
       "    <tr>\n",
       "      <th>28</th>\n",
       "      <td>28</td>\n",
       "      <td>0.021617</td>\n",
       "    </tr>\n",
       "    <tr>\n",
       "      <th>6</th>\n",
       "      <td>6</td>\n",
       "      <td>0.021218</td>\n",
       "    </tr>\n",
       "    <tr>\n",
       "      <th>17</th>\n",
       "      <td>17</td>\n",
       "      <td>0.020124</td>\n",
       "    </tr>\n",
       "    <tr>\n",
       "      <th>12</th>\n",
       "      <td>12</td>\n",
       "      <td>0.019457</td>\n",
       "    </tr>\n",
       "    <tr>\n",
       "      <th>8</th>\n",
       "      <td>8</td>\n",
       "      <td>0.019328</td>\n",
       "    </tr>\n",
       "    <tr>\n",
       "      <th>14</th>\n",
       "      <td>14</td>\n",
       "      <td>0.019092</td>\n",
       "    </tr>\n",
       "    <tr>\n",
       "      <th>18</th>\n",
       "      <td>18</td>\n",
       "      <td>0.017946</td>\n",
       "    </tr>\n",
       "    <tr>\n",
       "      <th>13</th>\n",
       "      <td>13</td>\n",
       "      <td>0.017107</td>\n",
       "    </tr>\n",
       "    <tr>\n",
       "      <th>22</th>\n",
       "      <td>22</td>\n",
       "      <td>0.016357</td>\n",
       "    </tr>\n",
       "    <tr>\n",
       "      <th>0</th>\n",
       "      <td>0</td>\n",
       "      <td>0.016241</td>\n",
       "    </tr>\n",
       "    <tr>\n",
       "      <th>21</th>\n",
       "      <td>21</td>\n",
       "      <td>0.015017</td>\n",
       "    </tr>\n",
       "  </tbody>\n",
       "</table>\n",
       "</div>"
      ],
      "text/plain": [
       "    Feature Index  Importance\n",
       "15             15    0.121020\n",
       "1               1    0.066357\n",
       "20             20    0.054123\n",
       "24             24    0.052567\n",
       "31             31    0.050008\n",
       "30             30    0.046646\n",
       "29             29    0.043578\n",
       "25             25    0.039008\n",
       "11             11    0.031604\n",
       "3               3    0.029356\n",
       "5               5    0.028194\n",
       "26             26    0.026160\n",
       "4               4    0.025668\n",
       "23             23    0.025110\n",
       "16             16    0.023460\n",
       "10             10    0.022752\n",
       "2               2    0.022580\n",
       "7               7    0.022490\n",
       "19             19    0.022036\n",
       "9               9    0.021931\n",
       "27             27    0.021847\n",
       "28             28    0.021617\n",
       "6               6    0.021218\n",
       "17             17    0.020124\n",
       "12             12    0.019457\n",
       "8               8    0.019328\n",
       "14             14    0.019092\n",
       "18             18    0.017946\n",
       "13             13    0.017107\n",
       "22             22    0.016357\n",
       "0               0    0.016241\n",
       "21             21    0.015017"
      ]
     },
     "metadata": {},
     "output_type": "display_data"
    }
   ],
   "source": [
    "import pandas as pd\n",
    "import numpy as np\n",
    "\n",
    "# === Show feature importances ===\n",
    "importances = final_model.feature_importances_\n",
    "importance_df = pd.DataFrame({\n",
    "    \"Feature Index\": np.arange(len(importances)),\n",
    "    \"Importance\": importances\n",
    "}).sort_values(by=\"Importance\", ascending=False)\n",
    "\n",
    "display(importance_df)\n",
    "\n"
   ]
  },
  {
   "cell_type": "markdown",
   "id": "09fed4a4",
   "metadata": {},
   "source": [
    "It looks like the best feature here is when a Connolly point is both a Hydrogen Donor and Acceptor at the same time!"
   ]
  },
  {
   "cell_type": "markdown",
   "id": "b13ce855",
   "metadata": {},
   "source": [
    "Save the model into different formats"
   ]
  },
  {
   "cell_type": "code",
   "execution_count": 27,
   "id": "c81b4581",
   "metadata": {},
   "outputs": [
    {
     "name": "stdout",
     "output_type": "stream",
     "text": [
      "Model saved as xgboost_binding_site_model_20250414_115052.json and xgboost_binding_site_model_20250414_115052.pkl\n"
     ]
    }
   ],
   "source": [
    "from joblib import dump\n",
    "import time\n",
    "\n",
    "# Create a unique timestamped name\n",
    "timestamp = time.strftime(\"%Y%m%d_%H%M%S\")\n",
    "model_name = f\"xgboost_binding_site_model_{timestamp}\"\n",
    "\n",
    "# Save as native XGBoost binary\n",
    "final_model.save_model(f\"{model_name}.json\")  # Good for reloading with XGBoost directly\n",
    "\n",
    "# Save as Python pickle (Joblib format) — great for reuse in any Python project\n",
    "dump(final_model, f\"{model_name}.pkl\")\n",
    "\n",
    "# Save feature importances too (optional)\n",
    "importance_df.to_csv(f\"{model_name}_feature_importances.csv\", index=False)\n",
    "\n",
    "print(f\"Model saved as {model_name}.json and {model_name}.pkl\")\n"
   ]
  }
 ],
 "metadata": {
  "kernelspec": {
   "display_name": "base",
   "language": "python",
   "name": "python3"
  },
  "language_info": {
   "codemirror_mode": {
    "name": "ipython",
    "version": 3
   },
   "file_extension": ".py",
   "mimetype": "text/x-python",
   "name": "python",
   "nbconvert_exporter": "python",
   "pygments_lexer": "ipython3",
   "version": "3.10.14"
  }
 },
 "nbformat": 4,
 "nbformat_minor": 5
}
